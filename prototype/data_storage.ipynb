{
 "cells": [
  {
   "metadata": {
    "ExecuteTime": {
     "end_time": "2025-03-04T09:12:58.413755Z",
     "start_time": "2025-03-04T09:12:55.315403Z"
    }
   },
   "cell_type": "code",
   "source": [
    "%%capture\n",
    "!pip install llama-index==0.10.37 cohere==5.5.0 openai==1.30.1 llama-index-embeddings-openai==0.1.9 llama-index-llms-cohere==0.2.0 qdrant-client==1.9.1 llama-index-vector-stores-qdrant==0.2.8"
   ],
   "id": "3aec5d4ecdd37aef",
   "outputs": [],
   "execution_count": 3
  },
  {
   "metadata": {
    "ExecuteTime": {
     "end_time": "2025-03-04T09:12:58.426315Z",
     "start_time": "2025-03-04T09:12:58.421850Z"
    }
   },
   "cell_type": "code",
   "source": [
    "import os\n",
    "import nest_asyncio\n",
    "from getpass import getpass\n",
    "from dotenv import load_dotenv\n",
    "\n",
    "load_dotenv(r\"C:\\Users\\anteb\\PycharmProjects\\JupyterProject\\.env\")\n",
    "nest_asyncio.apply()\n",
    "\n",
    "# Debug: Print environment variables to verify they are loaded\n",
    "print(\"CO_API_KEY:\", os.environ.get('CO_API_KEY'))\n",
    "print(\"OPENAI_API_KEY:\", os.environ.get('OPENAI_API_KEY'))\n",
    "print(\"QDRANT_URL:\", os.environ.get('QDRANT_URL'))\n",
    "print(\"QDRANT_API_KEY:\", os.environ.get('QDRANT_API_KEY'))\n",
    "\n",
    "CO_API_KEY = os.environ.get('CO_API_KEY') or getpass(\"Enter CO_API_KEY: \")\n",
    "OPENAI_API_KEY = os.environ.get('OPENAI_API_KEY') or getpass(\"Enter OPENAI_API_KEY: \")\n",
    "QDRANT_URL = os.environ.get('QDRANT_URL') or getpass(\"Enter QDRANT_URL: \")\n",
    "QDRANT_API_KEY = os.environ.get('QDRANT_API_KEY') or getpass(\"Enter QDRANT_API_KEY: \")\n"
   ],
   "id": "5da5ad8759268075",
   "outputs": [],
   "execution_count": 4
  },
  {
   "metadata": {
    "ExecuteTime": {
     "end_time": "2025-03-04T09:12:58.852664Z",
     "start_time": "2025-03-04T09:12:58.442964Z"
    }
   },
   "cell_type": "code",
   "source": [
    "import requests\n",
    "from pathlib import Path\n",
    "\n",
    "# Create directory if it doesn't exist\n",
    "def create_directory(directory_name):\n",
    "    path = Path(directory_name)\n",
    "    path.mkdir(parents=True, exist_ok=True)\n",
    "    print(f\"Directory '{directory_name}' created successfully.\")\n",
    "\n",
    "create_directory(\"rag_articles\")"
   ],
   "id": "78f49fbe1dbbdc71",
   "outputs": [
    {
     "name": "stdout",
     "output_type": "stream",
     "text": [
      "Directory 'rag_articles' created successfully.\n"
     ]
    }
   ],
   "execution_count": 5
  },
  {
   "metadata": {
    "ExecuteTime": {
     "end_time": "2025-03-04T09:12:58.872928Z",
     "start_time": "2025-03-04T09:12:58.867130Z"
    }
   },
   "cell_type": "code",
   "source": [
    "def download_pdf(url, directory):\n",
    "    # Extract a simple filename from the URL (e.g., \"2502.20364.pdf\")\n",
    "    filename = url.split(\"/\")[-1] + \".pdf\"\n",
    "    pdf_path = Path(directory) / filename\n",
    "    response = requests.get(url)\n",
    "    response.raise_for_status()  # Optional: raises an exception for bad responses\n",
    "    with open(pdf_path, \"wb\") as file:\n",
    "        file.write(response.content)\n",
    "    print(f\"PDF downloaded and saved to {pdf_path}\")\n",
    "    return str(pdf_path)"
   ],
   "id": "6f85f387705219eb",
   "outputs": [],
   "execution_count": 6
  },
  {
   "metadata": {
    "ExecuteTime": {
     "end_time": "2025-03-04T09:12:58.886990Z",
     "start_time": "2025-03-04T09:12:58.882485Z"
    }
   },
   "cell_type": "code",
   "source": [
    "# List of PDF links\n",
    "pdf_links = [\n",
    "    \"https://arxiv.org/pdf/2502.20964\",\n",
    "    \"https://arxiv.org/pdf/2502.20969\",\n",
    "    \"https://arxiv.org/pdf/2502.20995\",\n",
    "    \"https://arxiv.org/pdf/2502.21087\",\n",
    "    \"https://arxiv.org/pdf/2502.21263\"\n",
    "]"
   ],
   "id": "6e7bf6cac0cd5261",
   "outputs": [],
   "execution_count": 7
  },
  {
   "metadata": {
    "ExecuteTime": {
     "end_time": "2025-03-04T09:12:59.507596Z",
     "start_time": "2025-03-04T09:12:58.895774Z"
    }
   },
   "cell_type": "code",
   "source": [
    "downloaded_files = []\n",
    "for url in pdf_links:\n",
    "    file_path = download_pdf(url, \"rag_articles\")\n",
    "    downloaded_files.append(file_path)"
   ],
   "id": "289cc289924e0e3b",
   "outputs": [
    {
     "name": "stdout",
     "output_type": "stream",
     "text": [
      "PDF downloaded and saved to rag_articles\\2502.20964.pdf\n",
      "PDF downloaded and saved to rag_articles\\2502.20969.pdf\n",
      "PDF downloaded and saved to rag_articles\\2502.20995.pdf\n",
      "PDF downloaded and saved to rag_articles\\2502.21087.pdf\n",
      "PDF downloaded and saved to rag_articles\\2502.21263.pdf\n"
     ]
    }
   ],
   "execution_count": 8
  },
  {
   "metadata": {
    "ExecuteTime": {
     "end_time": "2025-03-04T09:13:10.290143Z",
     "start_time": "2025-03-04T09:12:59.517917Z"
    }
   },
   "cell_type": "code",
   "source": [
    "# Load the downloaded PDFs using SimpleDirectoryReader from llamaindex\n",
    "from llama_index.core import SimpleDirectoryReader\n",
    "\n",
    "# Option 1: Load using a list of file paths\n",
    "documents = SimpleDirectoryReader(input_files=downloaded_files, filename_as_id=True).load_data()\n",
    "\n",
    "\n",
    "print(f\"Loaded {len(documents)} documents.\")"
   ],
   "id": "5b324cfa5f564656",
   "outputs": [
    {
     "name": "stderr",
     "output_type": "stream",
     "text": [
      "[nltk_data] Downloading package punkt_tab to\n",
      "[nltk_data]     C:\\Users\\anteb\\anaconda3\\Lib\\site-\n",
      "[nltk_data]     packages\\llama_index\\core\\_static/nltk_cache...\n",
      "[nltk_data]   Package punkt_tab is already up-to-date!\n"
     ]
    },
    {
     "name": "stdout",
     "output_type": "stream",
     "text": [
      "Loaded 82 documents.\n"
     ]
    }
   ],
   "execution_count": 9
  },
  {
   "metadata": {
    "ExecuteTime": {
     "end_time": "2025-03-04T09:13:10.510887Z",
     "start_time": "2025-03-04T09:13:10.302904Z"
    }
   },
   "cell_type": "code",
   "source": [
    "# Create Node parser\n",
    "from llama_index.core.node_parser import SentenceSplitter\n",
    "\n",
    "sentence_splitter = SentenceSplitter(\n",
    "    chunk_size=512,\n",
    "    chunk_overlap=16,\n",
    "    paragraph_separator=\"\\n\\n\\n\\n\"\n",
    ")"
   ],
   "id": "c1fef7d33671c750",
   "outputs": [],
   "execution_count": 10
  },
  {
   "metadata": {
    "ExecuteTime": {
     "end_time": "2025-03-04T09:13:10.819119Z",
     "start_time": "2025-03-04T09:13:10.521614Z"
    }
   },
   "cell_type": "code",
   "source": [
    "# Instantiate embedding model\n",
    "from llama_index.embeddings.openai import OpenAIEmbedding\n",
    "\n",
    "embed_model = OpenAIEmbedding(model_name=\"text-embedding-3-small\")"
   ],
   "id": "6b4bdea6f58fed55",
   "outputs": [],
   "execution_count": 11
  },
  {
   "metadata": {
    "ExecuteTime": {
     "end_time": "2025-03-04T09:13:12.410893Z",
     "start_time": "2025-03-04T09:13:10.827660Z"
    }
   },
   "cell_type": "code",
   "source": [
    "import qdrant_client\n",
    "from llama_index.vector_stores.qdrant import QdrantVectorStore\n",
    "\n",
    "# initialize qdrant client\n",
    "client = qdrant_client.QdrantClient(\n",
    "    url=QDRANT_URL,\n",
    "    api_key=QDRANT_API_KEY,\n",
    ")\n",
    "\n",
    "vector_store = QdrantVectorStore(\n",
    "    client=client,\n",
    "    collection_name=\"rag_articles\",\n",
    "    embed_model=embed_model,\n",
    ")"
   ],
   "id": "18691cd3631b470a",
   "outputs": [],
   "execution_count": 12
  },
  {
   "metadata": {
    "ExecuteTime": {
     "end_time": "2025-03-04T09:13:12.424086Z",
     "start_time": "2025-03-04T09:13:12.419643Z"
    }
   },
   "cell_type": "code",
   "source": [
    "from llama_index.core import StorageContext\n",
    "\n",
    "# assign qdrant vector store to storage context\n",
    "storage_context = StorageContext.from_defaults(\n",
    "    vector_store=vector_store,\n",
    "    )"
   ],
   "id": "51fcfc1d47673828",
   "outputs": [],
   "execution_count": 13
  },
  {
   "metadata": {
    "ExecuteTime": {
     "end_time": "2025-03-04T09:13:17.654907Z",
     "start_time": "2025-03-04T09:13:12.433073Z"
    }
   },
   "cell_type": "code",
   "source": [
    "from llama_index.core import  VectorStoreIndex\n",
    "# create the index\n",
    "index = VectorStoreIndex.from_documents(\n",
    "    documents,\n",
    "    show_progress=True,\n",
    "    store_nodes_override=True,\n",
    "    transformation=[sentence_splitter],\n",
    "    embed_model=embed_model,\n",
    "    storage_context=storage_context,\n",
    ")"
   ],
   "id": "7c1cb6baeb984920",
   "outputs": [
    {
     "data": {
      "text/plain": [
       "Parsing nodes:   0%|          | 0/82 [00:00<?, ?it/s]"
      ],
      "application/vnd.jupyter.widget-view+json": {
       "version_major": 2,
       "version_minor": 0,
       "model_id": "d1498696284a4ba1934acd645d0d9d46"
      }
     },
     "metadata": {},
     "output_type": "display_data"
    },
    {
     "data": {
      "text/plain": [
       "Generating embeddings:   0%|          | 0/135 [00:00<?, ?it/s]"
      ],
      "application/vnd.jupyter.widget-view+json": {
       "version_major": 2,
       "version_minor": 0,
       "model_id": "852b0694d2c14220b99586ff32edc02a"
      }
     },
     "metadata": {},
     "output_type": "display_data"
    }
   ],
   "execution_count": 14
  },
  {
   "metadata": {
    "ExecuteTime": {
     "end_time": "2025-03-04T09:13:17.672740Z",
     "start_time": "2025-03-04T09:13:17.668746Z"
    }
   },
   "cell_type": "code",
   "source": [
    "retirever = index.as_retriever(\n",
    "    similarity_top_k=5,\n",
    "    similarity_threshold=0.75)"
   ],
   "id": "7f4b8a7881dd72b3",
   "outputs": [],
   "execution_count": 15
  },
  {
   "metadata": {
    "ExecuteTime": {
     "end_time": "2025-03-04T09:13:18.105173Z",
     "start_time": "2025-03-04T09:13:17.681814Z"
    }
   },
   "cell_type": "code",
   "source": [
    "import qdrant_client\n",
    "from llama_index.embeddings.openai import OpenAIEmbedding\n",
    "from llama_index.core import VectorStoreIndex\n",
    "from llama_index.vector_stores.qdrant import QdrantVectorStore\n",
    "from llama_index.core import StorageContext\n",
    "\n",
    "embed_model = OpenAIEmbedding(model_name=\"text-embedding-3-small\")\n",
    "\n",
    "# initialize qdrant client\n",
    "client = qdrant_client.QdrantClient(\n",
    "    url=QDRANT_URL,\n",
    "    api_key=QDRANT_API_KEY,\n",
    ")\n",
    "\n",
    "vector_store = QdrantVectorStore(\n",
    "    client=client,\n",
    "    collection_name=\"rag_articles\",\n",
    "    embed_model=embed_model,\n",
    ")\n",
    "\n",
    "# assign qdrant vector store to storage context\n",
    "storage_context = StorageContext.from_defaults(\n",
    "    vector_store=vector_store,\n",
    "    )\n",
    "\n",
    "# load your index from stored vectors\n",
    "index = VectorStoreIndex.from_vector_store(\n",
    "    vector_store=vector_store,\n",
    "    embed_model=embed_model,\n",
    "    storage_context=storage_context\n",
    ")"
   ],
   "id": "7bf8844e8712369d",
   "outputs": [],
   "execution_count": 16
  },
  {
   "metadata": {
    "ExecuteTime": {
     "end_time": "2025-03-04T09:13:19.055517Z",
     "start_time": "2025-03-04T09:13:18.115126Z"
    }
   },
   "cell_type": "code",
   "source": [
    "from llama_index.core import get_response_synthesizer\n",
    "from llama_index.core.retrievers import VectorIndexRetriever\n",
    "from llama_index.core.query_engine import RetrieverQueryEngine\n",
    "from llama_index.core.postprocessor import SimilarityPostprocessor\n",
    "from llama_index.llms.cohere import Cohere\n",
    "\n",
    "llm = Cohere(model=\"command-r-plus\")\n",
    "\n",
    "# configure a retriever\n",
    "retriever = VectorIndexRetriever(\n",
    "    index=index,\n",
    "    similarity_top_k=10,\n",
    ")\n",
    "\n",
    "# configure a post processor\n",
    "similarity_processor = SimilarityPostprocessor(similarity_cutoff=0.42)\n",
    "\n",
    "# configure a response sythesizer\n",
    "response_synthsizer = get_response_synthesizer(llm=llm)\n",
    "\n",
    "# create a query engine\n",
    "query_engine = RetrieverQueryEngine(\n",
    "    retriever=retriever,\n",
    "    response_synthesizer=response_synthsizer,\n",
    "    node_postprocessors=[similarity_processor],\n",
    ")"
   ],
   "id": "9133cacca60d10ed",
   "outputs": [],
   "execution_count": 17
  },
  {
   "metadata": {
    "ExecuteTime": {
     "end_time": "2025-03-04T09:13:26.053757Z",
     "start_time": "2025-03-04T09:13:19.066889Z"
    }
   },
   "cell_type": "code",
   "source": "query_engine.query(\"How I can improve my AI agent?\")",
   "id": "5f78b1cedd81c2de",
   "outputs": [
    {
     "data": {
      "text/plain": [
       "Response(response='You can improve your AI agent by enabling it to take three different actions: Search, Query, and Finish. These actions focus on different aspects of semi-structured data. \\n\\nThe Search [node] action, for example, focuses on relational information from nodes. This action can be performed on multiple nodes by repeating the same process. It involves finding the most relevant top K neighbours by retrieving all neighbours connected to a given node and then selecting the top K nodes that are most related based on their edges to the node.', source_nodes=[NodeWithScore(node=TextNode(id_='93d30c01-a062-4635-9412-627fecec1549', embedding=None, metadata={'page_label': '5', 'file_name': '2502.21087.pdf', 'file_path': 'rag_articles\\\\2502.21087.pdf', 'file_type': 'application/pdf', 'file_size': 1340539, 'creation_date': '2025-03-03', 'last_modified_date': '2025-03-04'}, excluded_embed_metadata_keys=['file_name', 'file_type', 'file_size', 'creation_date', 'last_modified_date', 'last_accessed_date'], excluded_llm_metadata_keys=['file_name', 'file_type', 'file_size', 'creation_date', 'last_modified_date', 'last_accessed_date'], relationships={<NodeRelationship.SOURCE: '1'>: RelatedNodeInfo(node_id='rag_articles\\\\2502.21087.pdf_part_4', node_type=<ObjectType.DOCUMENT: '4'>, metadata={'page_label': '5', 'file_name': '2502.21087.pdf', 'file_path': 'rag_articles\\\\2502.21087.pdf', 'file_type': 'application/pdf', 'file_size': 1340539, 'creation_date': '2025-03-03', 'last_modified_date': '2025-03-04'}, hash='ae0ca502bbdc9d93b9cc219b21e49df475204b5b7f0f1cd17c39788f90ec28f3'), <NodeRelationship.PREVIOUS: '2'>: RelatedNodeInfo(node_id='e649ccf0-25a9-4d63-b3ac-75ab103dc387', node_type=<ObjectType.TEXT: '1'>, metadata={'page_label': '5', 'file_name': '2502.21087.pdf', 'file_path': 'rag_articles\\\\2502.21087.pdf', 'file_type': 'application/pdf', 'file_size': 1340539, 'creation_date': '2025-03-03', 'last_modified_date': '2025-03-04'}, hash='6374dcc39f62b4e43158f0a2874cb58d4a0b452298c31b9439fa7b4264cd7c8d')}, text='This\\nagent, implemented by an LLM model, first thinks of which action\\nto take and express its Thought in natural languages, then performs\\nthe action to retrieve relevant information from the semi-structured\\ndata to obtain the set of triplets with node text description that\\nwill be used to determine next action. Such process is repeated\\nfor multiple times. The agent can take three different actions in\\ntotal: Search ,Query andFinish , which focus on different aspects of\\nsemi-structured data:\\n(1)Search[node] , which focuses on relational information from\\nnode . For simplicity, here we consider searching only one\\nnode, and it is straight-forward to search multiple nodes by\\nrepeating the same process. Given node , this action finds\\nthe most relevant top 𝐾neighbors, which uses the same\\nstrategy in ToG [ 16] to filter unrelated neighbor nodes: first,\\nwe retrieve all neighbors that are connected to node . Then,\\nwe utilize the LLM agent to select the top 𝐾nodes that most\\nrelated to current reasoning based on their edges to node .', mimetype='text/plain', start_char_idx=2243, end_char_idx=3279, text_template='{metadata_str}\\n\\n{content}', metadata_template='{key}: {value}', metadata_seperator='\\n'), score=0.44904)], metadata={'93d30c01-a062-4635-9412-627fecec1549': {'page_label': '5', 'file_name': '2502.21087.pdf', 'file_path': 'rag_articles\\\\2502.21087.pdf', 'file_type': 'application/pdf', 'file_size': 1340539, 'creation_date': '2025-03-03', 'last_modified_date': '2025-03-04'}})"
      ]
     },
     "execution_count": 18,
     "metadata": {},
     "output_type": "execute_result"
    }
   ],
   "execution_count": 18
  }
 ],
 "metadata": {
  "kernelspec": {
   "display_name": "Python 3",
   "language": "python",
   "name": "python3"
  },
  "language_info": {
   "codemirror_mode": {
    "name": "ipython",
    "version": 2
   },
   "file_extension": ".py",
   "mimetype": "text/x-python",
   "name": "python",
   "nbconvert_exporter": "python",
   "pygments_lexer": "ipython2",
   "version": "2.7.6"
  }
 },
 "nbformat": 4,
 "nbformat_minor": 5
}
