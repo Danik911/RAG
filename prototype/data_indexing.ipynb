{
 "cells": [
  {
   "cell_type": "code",
   "id": "initial_id",
   "metadata": {
    "collapsed": true,
    "ExecuteTime": {
     "end_time": "2025-03-01T19:21:31.082301Z",
     "start_time": "2025-03-01T19:21:25.389288Z"
    }
   },
   "source": [
    "%%capture\n",
    "!pip install llama-index==0.10.37 llama-index-embeddings-cohere--0.2.0"
   ],
   "outputs": [],
   "execution_count": 3
  },
  {
   "metadata": {
    "ExecuteTime": {
     "end_time": "2025-03-01T19:21:32.958284Z",
     "start_time": "2025-03-01T19:21:32.928294Z"
    }
   },
   "cell_type": "code",
   "source": [
    "import os\n",
    "\n",
    "from getpass import getpass\n",
    "import nest_asyncio\n",
    "\n",
    "from dotenv import load_dotenv\n",
    "\n",
    "nest_asyncio.apply()\n",
    "\n",
    "load_dotenv()"
   ],
   "id": "3dc1893a9db6d1bc",
   "outputs": [
    {
     "data": {
      "text/plain": [
       "True"
      ]
     },
     "execution_count": 4,
     "metadata": {},
     "output_type": "execute_result"
    }
   ],
   "execution_count": 4
  },
  {
   "metadata": {
    "ExecuteTime": {
     "end_time": "2025-03-01T19:22:19.288173Z",
     "start_time": "2025-03-01T19:22:19.276578Z"
    }
   },
   "cell_type": "code",
   "source": "CO_API_KEY = os.environ['API_KEY_COHERE'] or getpass(\"API Key:\")",
   "id": "f85fc8c5d7ddab3",
   "outputs": [],
   "execution_count": 6
  },
  {
   "metadata": {
    "ExecuteTime": {
     "end_time": "2025-03-01T19:31:48.086876Z",
     "start_time": "2025-03-01T19:31:43.555130Z"
    }
   },
   "cell_type": "code",
   "source": [
    "from llama_index.embeddings.cohere import CohereEmbedding\n",
    "\n",
    "embed_v3 = CohereEmbedding(model_name=\"embed-english-v3.0\",  cohere_api_key=CO_API_KEY)\n",
    "\n",
    "embed_v3_light = CohereEmbedding(model_name=\"embed-english-light-v3.0\", cohere_api_key=CO_API_KEY)\n",
    "\n",
    "embed_v2 = CohereEmbedding(model_name=\"embed-english-v2.0\", cohere_api_key=CO_API_KEY)"
   ],
   "id": "f5a6893a4b2486e5",
   "outputs": [],
   "execution_count": 8
  },
  {
   "metadata": {
    "ExecuteTime": {
     "end_time": "2025-03-01T19:32:14.155325Z",
     "start_time": "2025-03-01T19:32:14.141230Z"
    }
   },
   "cell_type": "code",
   "source": [
    "string = \"A\"\n",
    "\n",
    "string_2 = \"This is a complete sentence.\"\n",
    "\n",
    "string_3 = \"\"\"In the pursuit of a life well-lived, one must recognize the transient nature of the\n",
    "material world and the enduring value of virtue. The Sikh Gurus taught us that the Divine Light\n",
    "resides within all, and thus, we are united in our essence beyond the superficial distinctions of\n",
    "caste, creed, or status. Similarly, the Stoics emphasized the cultivation of inner virtues such as courage,\n",
    "temperance, and wisdom, understanding that true freedom lies in mastery over one's own perceptions and actions.\n",
    "As we navigate the vicissitudes of life, let us remember that our choices are our own, and in choosing virtue,\n",
    "we align ourselves with the cosmic order and the teachings of the Gurus. It is through selfless service,\n",
    "compassion, and the relentless pursuit of truth that we may attain a state of inner peace and contribute\n",
    "to the harmony of the world, embodying the principles of both Sikhism and Stoicism in our daily lives\n",
    "\"\"\""
   ],
   "id": "cbd623fa88f47f81",
   "outputs": [],
   "execution_count": 9
  },
  {
   "metadata": {
    "ExecuteTime": {
     "end_time": "2025-03-01T19:32:58.067003Z",
     "start_time": "2025-03-01T19:32:57.024665Z"
    }
   },
   "cell_type": "code",
   "source": "example_embedding = embed_v3_light.get_text_embedding(string)",
   "id": "e3f879b23bda393a",
   "outputs": [],
   "execution_count": 10
  },
  {
   "metadata": {
    "ExecuteTime": {
     "end_time": "2025-03-01T19:33:15.932063Z",
     "start_time": "2025-03-01T19:33:15.910187Z"
    }
   },
   "cell_type": "code",
   "source": "len(example_embedding)",
   "id": "ac3568dfd06566cd",
   "outputs": [
    {
     "data": {
      "text/plain": [
       "384"
      ]
     },
     "execution_count": 11,
     "metadata": {},
     "output_type": "execute_result"
    }
   ],
   "execution_count": 11
  },
  {
   "metadata": {
    "ExecuteTime": {
     "end_time": "2025-03-01T19:34:37.195908Z",
     "start_time": "2025-03-01T19:34:37.182143Z"
    }
   },
   "cell_type": "code",
   "source": [
    "def get_embedding_dimensions(embed_model, list_of_strings):\n",
    "    embeddings = embed_model.get_text_embedding_batch(list_of_strings)\n",
    "    embed_lens = []\n",
    "    for embedding in embeddings:\n",
    "        embed_lens.append(len(embedding))\n",
    "    return embed_lens"
   ],
   "id": "5e03a3034301a547",
   "outputs": [],
   "execution_count": 12
  },
  {
   "metadata": {
    "ExecuteTime": {
     "end_time": "2025-03-01T19:35:05.742431Z",
     "start_time": "2025-03-01T19:35:04.402597Z"
    }
   },
   "cell_type": "code",
   "source": "get_embedding_dimensions(embed_v3, [string, string_2, string_3])",
   "id": "5138fa562836f6da",
   "outputs": [
    {
     "data": {
      "text/plain": [
       "[1024, 1024, 1024]"
      ]
     },
     "execution_count": 14,
     "metadata": {},
     "output_type": "execute_result"
    }
   ],
   "execution_count": 14
  },
  {
   "metadata": {
    "ExecuteTime": {
     "end_time": "2025-03-01T19:37:17.782407Z",
     "start_time": "2025-03-01T19:37:17.027586Z"
    }
   },
   "cell_type": "code",
   "source": [
    "embed_v3.similarity(\n",
    "    embed_v3.get_text_embedding(\"\"\"In embracing both the wisdom of the Sikh Gurus and the Stoic philosophers,\n",
    "                              we find a path to tranquility by accepting what is beyond our control and focusing\n",
    "                              our efforts on living virtuously and with purpose.\"\"\"),\n",
    "    embed_v3.get_text_embedding(string_3),\n",
    "    mode=\"cosine\"\n",
    "    )"
   ],
   "id": "10f3ad230cfec409",
   "outputs": [
    {
     "data": {
      "text/plain": [
       "0.7476348651610869"
      ]
     },
     "execution_count": 16,
     "metadata": {},
     "output_type": "execute_result"
    }
   ],
   "execution_count": 16
  },
  {
   "metadata": {
    "ExecuteTime": {
     "end_time": "2025-03-01T19:46:03.285193Z",
     "start_time": "2025-03-01T19:46:02.699478Z"
    }
   },
   "cell_type": "code",
   "source": [
    "import requests\n",
    "\n",
    "def load_text_from_url(url: str) -> str:\n",
    "    \"\"\"\n",
    "    Fetches and returns the text content from the specified URL.\n",
    "\n",
    "    Parameters:\n",
    "    - url: The URL of the text file to fetch.\n",
    "\n",
    "    Returns:\n",
    "    - The text content of the file if the request is successful; otherwise, an error message.\n",
    "    \"\"\"\n",
    "    try:\n",
    "        response = requests.get(url)\n",
    "        response.raise_for_status()  # This will raise an HTTPError if the response was an error\n",
    "        return response.text\n",
    "    except requests.RequestException as e:\n",
    "        return f\"Failed to load content from {url}. Error: {e}\"\n",
    "\n",
    "url = \"https://www.gutenberg.org/files/10763/10763.txt\"\n",
    "\n",
    "text_content = load_text_from_url(url)"
   ],
   "id": "ff076db219a47ab6",
   "outputs": [],
   "execution_count": 30
  },
  {
   "metadata": {
    "ExecuteTime": {
     "end_time": "2025-03-01T19:46:05.333123Z",
     "start_time": "2025-03-01T19:46:05.322078Z"
    }
   },
   "cell_type": "code",
   "source": "print(text_content[:500])",
   "id": "cbedd240513439ba",
   "outputs": [
    {
     "name": "stdout",
     "output_type": "stream",
     "text": [
      "Failed to load content from https://www.gutenberg.org/files/10763/10763.txt. Error: 404 Client Error: Not Found for url: https://www.gutenberg.org/files/10763/10763.txt\n"
     ]
    }
   ],
   "execution_count": 31
  },
  {
   "metadata": {
    "ExecuteTime": {
     "end_time": "2025-03-01T19:49:38.625603Z",
     "start_time": "2025-03-01T19:49:38.618263Z"
    }
   },
   "cell_type": "code",
   "source": [
    "from llama_index.core import Document, VectorStoreIndex\n",
    "\n",
    "partial_document = Document(text=\"This is the content of the document, ensure it is not empty.\",\n",
    "    doc_id=\"doc1\"  # Optional: Provide a unique document ID\n",
    ")"
   ],
   "id": "cd4e8246cd2f583f",
   "outputs": [],
   "execution_count": 33
  },
  {
   "metadata": {
    "ExecuteTime": {
     "end_time": "2025-03-01T19:49:47.996729Z",
     "start_time": "2025-03-01T19:49:46.789052Z"
    }
   },
   "cell_type": "code",
   "source": [
    "index = VectorStoreIndex.from_documents(\n",
    "    # remember, you must pass a list of documents!\n",
    "    [partial_document],\n",
    "    embed_model=embed_v3,\n",
    "    show_progress=True)"
   ],
   "id": "5b11890f0c547bcd",
   "outputs": [
    {
     "data": {
      "text/plain": [
       "Parsing nodes:   0%|          | 0/1 [00:00<?, ?it/s]"
      ],
      "application/vnd.jupyter.widget-view+json": {
       "version_major": 2,
       "version_minor": 0,
       "model_id": "adbd18ea7a98424eaf69abdcd758eff3"
      }
     },
     "metadata": {},
     "output_type": "display_data"
    },
    {
     "data": {
      "text/plain": [
       "Generating embeddings:   0%|          | 0/1 [00:00<?, ?it/s]"
      ],
      "application/vnd.jupyter.widget-view+json": {
       "version_major": 2,
       "version_minor": 0,
       "model_id": "a151a0a50d61422989e449ac430e2dc8"
      }
     },
     "metadata": {},
     "output_type": "display_data"
    }
   ],
   "execution_count": 35
  },
  {
   "metadata": {
    "ExecuteTime": {
     "end_time": "2025-03-01T19:50:24.608293Z",
     "start_time": "2025-03-01T19:50:24.596304Z"
    }
   },
   "cell_type": "code",
   "source": "type(index)",
   "id": "26dc30a7d05ba1c1",
   "outputs": [
    {
     "data": {
      "text/plain": [
       "llama_index.core.indices.vector_store.base.VectorStoreIndex"
      ]
     },
     "execution_count": 37,
     "metadata": {},
     "output_type": "execute_result"
    }
   ],
   "execution_count": 37
  },
  {
   "metadata": {
    "ExecuteTime": {
     "end_time": "2025-03-01T19:52:18.532987Z",
     "start_time": "2025-03-01T19:52:18.191954Z"
    }
   },
   "cell_type": "code",
   "source": [
    "from llama_index.core.node_parser import SentenceSplitter\n",
    "\n",
    "# instantiate a node parser\n",
    "splitter = SentenceSplitter(\n",
    "    chunk_size=512,\n",
    "    chunk_overlap=16,\n",
    "    paragraph_separator=\"\\n\\n\\n\\n\",\n",
    ")\n",
    "\n",
    "# pass a list of documents to the node paraser\n",
    "nodes = splitter.get_nodes_from_documents([partial_document])\n",
    "\n",
    "# create the index from the nodes\n",
    "index_from_nodes = VectorStoreIndex(\n",
    "    nodes,\n",
    "    embed_model=embed_v3,\n",
    "    show_progress=True\n",
    "    )"
   ],
   "id": "9e1ea66e2d111030",
   "outputs": [
    {
     "data": {
      "text/plain": [
       "Generating embeddings:   0%|          | 0/1 [00:00<?, ?it/s]"
      ],
      "application/vnd.jupyter.widget-view+json": {
       "version_major": 2,
       "version_minor": 0,
       "model_id": "4e9a8959cb25435ab8c45c861f0d0fe2"
      }
     },
     "metadata": {},
     "output_type": "display_data"
    }
   ],
   "execution_count": 38
  }
 ],
 "metadata": {
  "kernelspec": {
   "display_name": "Python 3",
   "language": "python",
   "name": "python3"
  },
  "language_info": {
   "codemirror_mode": {
    "name": "ipython",
    "version": 2
   },
   "file_extension": ".py",
   "mimetype": "text/x-python",
   "name": "python",
   "nbconvert_exporter": "python",
   "pygments_lexer": "ipython2",
   "version": "2.7.6"
  }
 },
 "nbformat": 4,
 "nbformat_minor": 5
}
