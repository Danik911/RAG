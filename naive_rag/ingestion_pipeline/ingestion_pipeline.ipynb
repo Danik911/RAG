{
 "cells": [
  {
   "metadata": {
    "ExecuteTime": {
     "end_time": "2025-02-28T21:07:02.755716Z",
     "start_time": "2025-02-28T21:06:58.643208Z"
    }
   },
   "cell_type": "code",
   "source": [
    "%%capture\n",
    "!pip install llama-index==0.12.0 llama-index-embeddings-openai==0.1.9 qdrant-client==1.9.1 llama-index-vector-stores-qdrant==0.2.8 llama-index-llms-cohere==0.2.0"
   ],
   "id": "526992ec5219d3e8",
   "outputs": [],
   "execution_count": 20
  },
  {
   "metadata": {
    "ExecuteTime": {
     "end_time": "2025-02-28T20:55:53.344791Z",
     "start_time": "2025-02-28T20:55:47.778212Z"
    }
   },
   "cell_type": "code",
   "source": "!pip install python-dotenv",
   "id": "ac880ead91db3ba3",
   "outputs": [
    {
     "name": "stdout",
     "output_type": "stream",
     "text": [
      "Requirement already satisfied: python-dotenv in c:\\users\\anteb\\anaconda3\\lib\\site-packages (1.0.1)\n"
     ]
    },
    {
     "name": "stderr",
     "output_type": "stream",
     "text": [
      "WARNING: Ignoring invalid distribution ~okenizers (C:\\Users\\anteb\\anaconda3\\Lib\\site-packages)\n",
      "WARNING: Ignoring invalid distribution ~okenizers (C:\\Users\\anteb\\anaconda3\\Lib\\site-packages)\n",
      "WARNING: Ignoring invalid distribution ~okenizers (C:\\Users\\anteb\\anaconda3\\Lib\\site-packages)\n"
     ]
    }
   ],
   "execution_count": 16
  },
  {
   "metadata": {
    "ExecuteTime": {
     "end_time": "2025-02-28T20:52:02.646290Z",
     "start_time": "2025-02-28T20:51:51.059090Z"
    }
   },
   "cell_type": "code",
   "source": "!pip install llama-index-vector-stores-deeplake",
   "id": "21ae7b5755f8b0c3",
   "outputs": [
    {
     "name": "stdout",
     "output_type": "stream",
     "text": [
      "Collecting llama-index-vector-stores-deeplake\n",
      "  Downloading llama_index_vector_stores_deeplake-0.3.2-py3-none-any.whl.metadata (730 bytes)\n",
      "Requirement already satisfied: deeplake>=3.9.12 in c:\\users\\anteb\\anaconda3\\lib\\site-packages (from llama-index-vector-stores-deeplake) (3.9.43)\n",
      "Collecting llama-index-core<0.13.0,>=0.12.0 (from llama-index-vector-stores-deeplake)\n",
      "  Downloading llama_index_core-0.12.21-py3-none-any.whl.metadata (2.5 kB)\n",
      "Requirement already satisfied: pyjwt in c:\\users\\anteb\\anaconda3\\lib\\site-packages (from llama-index-vector-stores-deeplake) (2.8.0)\n",
      "Requirement already satisfied: numpy<2.0 in c:\\users\\anteb\\anaconda3\\lib\\site-packages (from deeplake>=3.9.12->llama-index-vector-stores-deeplake) (1.26.4)\n",
      "Requirement already satisfied: boto3 in c:\\users\\anteb\\anaconda3\\lib\\site-packages (from deeplake>=3.9.12->llama-index-vector-stores-deeplake) (1.37.4)\n",
      "Requirement already satisfied: click in c:\\users\\anteb\\anaconda3\\lib\\site-packages (from deeplake>=3.9.12->llama-index-vector-stores-deeplake) (8.1.7)\n",
      "Requirement already satisfied: pathos in c:\\users\\anteb\\anaconda3\\lib\\site-packages (from deeplake>=3.9.12->llama-index-vector-stores-deeplake) (0.3.3)\n",
      "Requirement already satisfied: humbug>=0.3.1 in c:\\users\\anteb\\anaconda3\\lib\\site-packages (from deeplake>=3.9.12->llama-index-vector-stores-deeplake) (0.3.2)\n",
      "Requirement already satisfied: tqdm in c:\\users\\anteb\\anaconda3\\lib\\site-packages (from deeplake>=3.9.12->llama-index-vector-stores-deeplake) (4.66.5)\n",
      "Requirement already satisfied: lz4 in c:\\users\\anteb\\anaconda3\\lib\\site-packages (from deeplake>=3.9.12->llama-index-vector-stores-deeplake) (4.3.2)\n",
      "Requirement already satisfied: pydantic in c:\\users\\anteb\\anaconda3\\lib\\site-packages (from deeplake>=3.9.12->llama-index-vector-stores-deeplake) (2.10.6)\n",
      "Requirement already satisfied: PyYAML>=6.0.1 in c:\\users\\anteb\\anaconda3\\lib\\site-packages (from llama-index-core<0.13.0,>=0.12.0->llama-index-vector-stores-deeplake) (6.0.1)\n",
      "Requirement already satisfied: SQLAlchemy>=1.4.49 in c:\\users\\anteb\\anaconda3\\lib\\site-packages (from SQLAlchemy[asyncio]>=1.4.49->llama-index-core<0.13.0,>=0.12.0->llama-index-vector-stores-deeplake) (2.0.34)\n",
      "Requirement already satisfied: aiohttp<4.0.0,>=3.8.6 in c:\\users\\anteb\\anaconda3\\lib\\site-packages (from llama-index-core<0.13.0,>=0.12.0->llama-index-vector-stores-deeplake) (3.10.5)\n",
      "Requirement already satisfied: dataclasses-json in c:\\users\\anteb\\anaconda3\\lib\\site-packages (from llama-index-core<0.13.0,>=0.12.0->llama-index-vector-stores-deeplake) (0.6.7)\n",
      "Requirement already satisfied: deprecated>=1.2.9.3 in c:\\users\\anteb\\anaconda3\\lib\\site-packages (from llama-index-core<0.13.0,>=0.12.0->llama-index-vector-stores-deeplake) (1.2.18)\n",
      "Requirement already satisfied: dirtyjson<2.0.0,>=1.0.8 in c:\\users\\anteb\\anaconda3\\lib\\site-packages (from llama-index-core<0.13.0,>=0.12.0->llama-index-vector-stores-deeplake) (1.0.8)\n",
      "Requirement already satisfied: filetype<2.0.0,>=1.2.0 in c:\\users\\anteb\\anaconda3\\lib\\site-packages (from llama-index-core<0.13.0,>=0.12.0->llama-index-vector-stores-deeplake) (1.2.0)\n",
      "Requirement already satisfied: fsspec>=2023.5.0 in c:\\users\\anteb\\anaconda3\\lib\\site-packages (from llama-index-core<0.13.0,>=0.12.0->llama-index-vector-stores-deeplake) (2024.3.1)\n",
      "Requirement already satisfied: httpx in c:\\users\\anteb\\anaconda3\\lib\\site-packages (from llama-index-core<0.13.0,>=0.12.0->llama-index-vector-stores-deeplake) (0.27.0)\n",
      "Requirement already satisfied: nest-asyncio<2.0.0,>=1.5.8 in c:\\users\\anteb\\anaconda3\\lib\\site-packages (from llama-index-core<0.13.0,>=0.12.0->llama-index-vector-stores-deeplake) (1.6.0)\n",
      "Requirement already satisfied: networkx>=3.0 in c:\\users\\anteb\\anaconda3\\lib\\site-packages (from llama-index-core<0.13.0,>=0.12.0->llama-index-vector-stores-deeplake) (3.3)\n",
      "Requirement already satisfied: nltk>3.8.1 in c:\\users\\anteb\\anaconda3\\lib\\site-packages (from llama-index-core<0.13.0,>=0.12.0->llama-index-vector-stores-deeplake) (3.9.1)\n",
      "Requirement already satisfied: pillow>=9.0.0 in c:\\users\\anteb\\anaconda3\\lib\\site-packages (from llama-index-core<0.13.0,>=0.12.0->llama-index-vector-stores-deeplake) (10.4.0)\n",
      "Requirement already satisfied: requests>=2.31.0 in c:\\users\\anteb\\anaconda3\\lib\\site-packages (from llama-index-core<0.13.0,>=0.12.0->llama-index-vector-stores-deeplake) (2.32.3)\n",
      "Requirement already satisfied: tenacity!=8.4.0,<10.0.0,>=8.2.0 in c:\\users\\anteb\\anaconda3\\lib\\site-packages (from llama-index-core<0.13.0,>=0.12.0->llama-index-vector-stores-deeplake) (8.2.3)\n",
      "Requirement already satisfied: tiktoken>=0.3.3 in c:\\users\\anteb\\anaconda3\\lib\\site-packages (from llama-index-core<0.13.0,>=0.12.0->llama-index-vector-stores-deeplake) (0.9.0)\n",
      "Requirement already satisfied: typing-extensions>=4.5.0 in c:\\users\\anteb\\anaconda3\\lib\\site-packages (from llama-index-core<0.13.0,>=0.12.0->llama-index-vector-stores-deeplake) (4.12.2)\n",
      "Requirement already satisfied: typing-inspect>=0.8.0 in c:\\users\\anteb\\anaconda3\\lib\\site-packages (from llama-index-core<0.13.0,>=0.12.0->llama-index-vector-stores-deeplake) (0.9.0)\n",
      "Requirement already satisfied: wrapt in c:\\users\\anteb\\anaconda3\\lib\\site-packages (from llama-index-core<0.13.0,>=0.12.0->llama-index-vector-stores-deeplake) (1.14.1)\n",
      "Requirement already satisfied: aiohappyeyeballs>=2.3.0 in c:\\users\\anteb\\anaconda3\\lib\\site-packages (from aiohttp<4.0.0,>=3.8.6->llama-index-core<0.13.0,>=0.12.0->llama-index-vector-stores-deeplake) (2.4.0)\n",
      "Requirement already satisfied: aiosignal>=1.1.2 in c:\\users\\anteb\\anaconda3\\lib\\site-packages (from aiohttp<4.0.0,>=3.8.6->llama-index-core<0.13.0,>=0.12.0->llama-index-vector-stores-deeplake) (1.2.0)\n",
      "Requirement already satisfied: attrs>=17.3.0 in c:\\users\\anteb\\anaconda3\\lib\\site-packages (from aiohttp<4.0.0,>=3.8.6->llama-index-core<0.13.0,>=0.12.0->llama-index-vector-stores-deeplake) (23.1.0)\n",
      "Requirement already satisfied: frozenlist>=1.1.1 in c:\\users\\anteb\\anaconda3\\lib\\site-packages (from aiohttp<4.0.0,>=3.8.6->llama-index-core<0.13.0,>=0.12.0->llama-index-vector-stores-deeplake) (1.4.0)\n",
      "Requirement already satisfied: multidict<7.0,>=4.5 in c:\\users\\anteb\\anaconda3\\lib\\site-packages (from aiohttp<4.0.0,>=3.8.6->llama-index-core<0.13.0,>=0.12.0->llama-index-vector-stores-deeplake) (6.0.4)\n",
      "Requirement already satisfied: yarl<2.0,>=1.0 in c:\\users\\anteb\\anaconda3\\lib\\site-packages (from aiohttp<4.0.0,>=3.8.6->llama-index-core<0.13.0,>=0.12.0->llama-index-vector-stores-deeplake) (1.11.0)\n",
      "Requirement already satisfied: joblib in c:\\users\\anteb\\anaconda3\\lib\\site-packages (from nltk>3.8.1->llama-index-core<0.13.0,>=0.12.0->llama-index-vector-stores-deeplake) (1.4.2)\n",
      "Requirement already satisfied: regex>=2021.8.3 in c:\\users\\anteb\\anaconda3\\lib\\site-packages (from nltk>3.8.1->llama-index-core<0.13.0,>=0.12.0->llama-index-vector-stores-deeplake) (2024.9.11)\n",
      "Requirement already satisfied: annotated-types>=0.6.0 in c:\\users\\anteb\\anaconda3\\lib\\site-packages (from pydantic->deeplake>=3.9.12->llama-index-vector-stores-deeplake) (0.6.0)\n",
      "Requirement already satisfied: pydantic-core==2.27.2 in c:\\users\\anteb\\anaconda3\\lib\\site-packages (from pydantic->deeplake>=3.9.12->llama-index-vector-stores-deeplake) (2.27.2)\n",
      "Requirement already satisfied: charset-normalizer<4,>=2 in c:\\users\\anteb\\anaconda3\\lib\\site-packages (from requests>=2.31.0->llama-index-core<0.13.0,>=0.12.0->llama-index-vector-stores-deeplake) (3.3.2)\n",
      "Requirement already satisfied: idna<4,>=2.5 in c:\\users\\anteb\\anaconda3\\lib\\site-packages (from requests>=2.31.0->llama-index-core<0.13.0,>=0.12.0->llama-index-vector-stores-deeplake) (3.7)\n",
      "Requirement already satisfied: urllib3<3,>=1.21.1 in c:\\users\\anteb\\anaconda3\\lib\\site-packages (from requests>=2.31.0->llama-index-core<0.13.0,>=0.12.0->llama-index-vector-stores-deeplake) (2.2.3)\n",
      "Requirement already satisfied: certifi>=2017.4.17 in c:\\users\\anteb\\anaconda3\\lib\\site-packages (from requests>=2.31.0->llama-index-core<0.13.0,>=0.12.0->llama-index-vector-stores-deeplake) (2025.1.31)\n",
      "Requirement already satisfied: greenlet!=0.4.17 in c:\\users\\anteb\\anaconda3\\lib\\site-packages (from SQLAlchemy[asyncio]>=1.4.49->llama-index-core<0.13.0,>=0.12.0->llama-index-vector-stores-deeplake) (3.0.1)\n",
      "Requirement already satisfied: colorama in c:\\users\\anteb\\anaconda3\\lib\\site-packages (from tqdm->deeplake>=3.9.12->llama-index-vector-stores-deeplake) (0.4.6)\n",
      "Requirement already satisfied: mypy-extensions>=0.3.0 in c:\\users\\anteb\\anaconda3\\lib\\site-packages (from typing-inspect>=0.8.0->llama-index-core<0.13.0,>=0.12.0->llama-index-vector-stores-deeplake) (1.0.0)\n",
      "Requirement already satisfied: botocore<1.38.0,>=1.37.4 in c:\\users\\anteb\\anaconda3\\lib\\site-packages (from boto3->deeplake>=3.9.12->llama-index-vector-stores-deeplake) (1.37.4)\n",
      "Requirement already satisfied: jmespath<2.0.0,>=0.7.1 in c:\\users\\anteb\\anaconda3\\lib\\site-packages (from boto3->deeplake>=3.9.12->llama-index-vector-stores-deeplake) (1.0.1)\n",
      "Requirement already satisfied: s3transfer<0.12.0,>=0.11.0 in c:\\users\\anteb\\anaconda3\\lib\\site-packages (from boto3->deeplake>=3.9.12->llama-index-vector-stores-deeplake) (0.11.3)\n",
      "Requirement already satisfied: marshmallow<4.0.0,>=3.18.0 in c:\\users\\anteb\\anaconda3\\lib\\site-packages (from dataclasses-json->llama-index-core<0.13.0,>=0.12.0->llama-index-vector-stores-deeplake) (3.26.1)\n",
      "Requirement already satisfied: anyio in c:\\users\\anteb\\anaconda3\\lib\\site-packages (from httpx->llama-index-core<0.13.0,>=0.12.0->llama-index-vector-stores-deeplake) (4.2.0)\n",
      "Requirement already satisfied: httpcore==1.* in c:\\users\\anteb\\anaconda3\\lib\\site-packages (from httpx->llama-index-core<0.13.0,>=0.12.0->llama-index-vector-stores-deeplake) (1.0.2)\n",
      "Requirement already satisfied: sniffio in c:\\users\\anteb\\anaconda3\\lib\\site-packages (from httpx->llama-index-core<0.13.0,>=0.12.0->llama-index-vector-stores-deeplake) (1.3.0)\n",
      "Requirement already satisfied: h11<0.15,>=0.13 in c:\\users\\anteb\\anaconda3\\lib\\site-packages (from httpcore==1.*->httpx->llama-index-core<0.13.0,>=0.12.0->llama-index-vector-stores-deeplake) (0.14.0)\n",
      "Requirement already satisfied: ppft>=1.7.6.9 in c:\\users\\anteb\\anaconda3\\lib\\site-packages (from pathos->deeplake>=3.9.12->llama-index-vector-stores-deeplake) (1.7.6.9)\n",
      "Requirement already satisfied: dill>=0.3.9 in c:\\users\\anteb\\anaconda3\\lib\\site-packages (from pathos->deeplake>=3.9.12->llama-index-vector-stores-deeplake) (0.3.9)\n",
      "Requirement already satisfied: pox>=0.3.5 in c:\\users\\anteb\\anaconda3\\lib\\site-packages (from pathos->deeplake>=3.9.12->llama-index-vector-stores-deeplake) (0.3.5)\n",
      "Requirement already satisfied: multiprocess>=0.70.17 in c:\\users\\anteb\\anaconda3\\lib\\site-packages (from pathos->deeplake>=3.9.12->llama-index-vector-stores-deeplake) (0.70.17)\n",
      "Requirement already satisfied: python-dateutil<3.0.0,>=2.1 in c:\\users\\anteb\\anaconda3\\lib\\site-packages (from botocore<1.38.0,>=1.37.4->boto3->deeplake>=3.9.12->llama-index-vector-stores-deeplake) (2.9.0.post0)\n",
      "Requirement already satisfied: packaging>=17.0 in c:\\users\\anteb\\anaconda3\\lib\\site-packages (from marshmallow<4.0.0,>=3.18.0->dataclasses-json->llama-index-core<0.13.0,>=0.12.0->llama-index-vector-stores-deeplake) (24.1)\n",
      "Requirement already satisfied: six>=1.5 in c:\\users\\anteb\\anaconda3\\lib\\site-packages (from python-dateutil<3.0.0,>=2.1->botocore<1.38.0,>=1.37.4->boto3->deeplake>=3.9.12->llama-index-vector-stores-deeplake) (1.16.0)\n",
      "Downloading llama_index_vector_stores_deeplake-0.3.2-py3-none-any.whl (7.1 kB)\n",
      "Downloading llama_index_core-0.12.21-py3-none-any.whl (1.6 MB)\n",
      "   ---------------------------------------- 0.0/1.6 MB ? eta -:--:--\n",
      "   ---------------------------------------- 1.6/1.6 MB 21.7 MB/s eta 0:00:00\n",
      "Installing collected packages: llama-index-core, llama-index-vector-stores-deeplake\n",
      "  Attempting uninstall: llama-index-core\n",
      "    Found existing installation: llama-index-core 0.10.68.post1\n",
      "    Uninstalling llama-index-core-0.10.68.post1:\n",
      "      Successfully uninstalled llama-index-core-0.10.68.post1\n",
      "Successfully installed llama-index-core-0.12.21 llama-index-vector-stores-deeplake-0.3.2\n",
      "Note: you may need to restart the kernel to use updated packages.\n"
     ]
    },
    {
     "name": "stderr",
     "output_type": "stream",
     "text": [
      "WARNING: Ignoring invalid distribution ~okenizers (C:\\Users\\anteb\\anaconda3\\Lib\\site-packages)\n",
      "WARNING: Ignoring invalid distribution ~okenizers (C:\\Users\\anteb\\anaconda3\\Lib\\site-packages)\n",
      "WARNING: Ignoring invalid distribution ~okenizers (C:\\Users\\anteb\\anaconda3\\Lib\\site-packages)\n",
      "ERROR: pip's dependency resolver does not currently take into account all the packages that are installed. This behaviour is the source of the following dependency conflicts.\n",
      "llama-index 0.10.37 requires llama-index-core<0.11.0,>=0.10.35, but you have llama-index-core 0.12.21 which is incompatible.\n",
      "llama-index-agent-openai 0.2.9 requires llama-index-core<0.11.0,>=0.10.41, but you have llama-index-core 0.12.21 which is incompatible.\n",
      "llama-index-cli 0.1.13 requires llama-index-core<0.11.0,>=0.10.11.post1, but you have llama-index-core 0.12.21 which is incompatible.\n",
      "llama-index-embeddings-cohere 0.1.8 requires llama-index-core<0.11.0,>=0.10.1, but you have llama-index-core 0.12.21 which is incompatible.\n",
      "llama-index-embeddings-openai 0.1.9 requires llama-index-core<0.11.0,>=0.10.1, but you have llama-index-core 0.12.21 which is incompatible.\n",
      "llama-index-indices-managed-llama-cloud 0.1.6 requires llama-index-core<0.11.0,>=0.10.0, but you have llama-index-core 0.12.21 which is incompatible.\n",
      "llama-index-llms-cohere 0.2.0 requires llama-index-core<0.11.0,>=0.10.36, but you have llama-index-core 0.12.21 which is incompatible.\n",
      "llama-index-llms-openai 0.1.19 requires llama-index-core<0.11.0,>=0.10.24, but you have llama-index-core 0.12.21 which is incompatible.\n",
      "llama-index-multi-modal-llms-openai 0.1.9 requires llama-index-core<0.11.0,>=0.10.1, but you have llama-index-core 0.12.21 which is incompatible.\n",
      "llama-index-postprocessor-cohere-rerank 0.1.6 requires llama-index-core<0.11.0,>=0.10.35, but you have llama-index-core 0.12.21 which is incompatible.\n",
      "llama-index-program-openai 0.1.7 requires llama-index-core<0.11.0,>=0.10.57, but you have llama-index-core 0.12.21 which is incompatible.\n",
      "llama-index-question-gen-openai 0.1.3 requires llama-index-core<0.11.0,>=0.10.1, but you have llama-index-core 0.12.21 which is incompatible.\n",
      "llama-index-readers-file 0.1.33 requires llama-index-core<0.11.0,>=0.10.37.post1, but you have llama-index-core 0.12.21 which is incompatible.\n",
      "llama-index-readers-llama-parse 0.1.6 requires llama-index-core<0.11.0,>=0.10.7, but you have llama-index-core 0.12.21 which is incompatible.\n",
      "llama-index-vector-stores-qdrant 0.2.8 requires llama-index-core<0.11.0,>=0.10.1, but you have llama-index-core 0.12.21 which is incompatible.\n"
     ]
    }
   ],
   "execution_count": 10
  },
  {
   "metadata": {
    "collapsed": true,
    "ExecuteTime": {
     "end_time": "2025-02-28T20:50:06.699253Z",
     "start_time": "2025-02-28T20:50:06.674515Z"
    }
   },
   "cell_type": "code",
   "source": [
    "import os\n",
    "from dotenv import load_dotenv\n",
    "\n",
    "\n",
    "import nest_asyncio\n",
    "\n",
    "nest_asyncio.apply()\n",
    "load_dotenv()\n"
   ],
   "id": "initial_id",
   "outputs": [
    {
     "data": {
      "text/plain": [
       "True"
      ]
     },
     "execution_count": 7,
     "metadata": {},
     "output_type": "execute_result"
    }
   ],
   "execution_count": 7
  },
  {
   "metadata": {
    "ExecuteTime": {
     "end_time": "2025-02-28T20:50:23.650707Z",
     "start_time": "2025-02-28T20:50:23.641208Z"
    }
   },
   "cell_type": "code",
   "source": [
    "API_KEY_CO= os.getenv(\"API_KEY_COHERE\")\n",
    "API_KEY_OPEN_AI = os.getenv(\"API_KEY_OPEN_AI\")\n",
    "API_KEY_QDRANT = os.getenv(\"API_KEY_QDRANT\")\n",
    "QDRANT_CLIENT = os.getenv(\"QDRANT_CLIENT\")\n"
   ],
   "id": "7f5487a9510ffdf3",
   "outputs": [],
   "execution_count": 8
  },
  {
   "metadata": {
    "ExecuteTime": {
     "end_time": "2025-02-28T20:50:25.568171Z",
     "start_time": "2025-02-28T20:50:25.555991Z"
    }
   },
   "cell_type": "code",
   "source": "print(QDRANT_CLIENT)",
   "id": "1cb42a96fdde3642",
   "outputs": [
    {
     "name": "stdout",
     "output_type": "stream",
     "text": [
      "https://123aa9b9-5700-4be7-8a59-a4918adaea1f.eu-west-2-0.aws.cloud.qdrant.io\n"
     ]
    }
   ],
   "execution_count": 9
  },
  {
   "metadata": {
    "ExecuteTime": {
     "end_time": "2025-02-28T20:54:38.894618Z",
     "start_time": "2025-02-28T20:54:30.059309Z"
    }
   },
   "cell_type": "code",
   "source": [
    "from llama_index.core.settings import Settings\n",
    "from llama_index.llms.cohere import Cohere\n",
    "from llama_index.embeddings.openai import OpenAIEmbedding\n",
    "\n",
    "Settings.llm = Cohere(model=\"command-r-plus\", api_key=API_KEY_CO)\n",
    "\n",
    "Settings.embed_model = OpenAIEmbedding(model_name=\"text-embedding-3-small\")"
   ],
   "id": "3e29ebcb8d6a5960",
   "outputs": [
    {
     "name": "stderr",
     "output_type": "stream",
     "text": [
      "[nltk_data] Downloading package punkt_tab to\n",
      "[nltk_data]     C:\\Users\\anteb\\anaconda3\\Lib\\site-\n",
      "[nltk_data]     packages\\llama_index\\core\\_static/nltk_cache...\n",
      "[nltk_data]   Unzipping tokenizers\\punkt_tab.zip.\n"
     ]
    }
   ],
   "execution_count": 12
  },
  {
   "metadata": {
    "ExecuteTime": {
     "end_time": "2025-02-28T20:54:50.672032Z",
     "start_time": "2025-02-28T20:54:48.988117Z"
    }
   },
   "cell_type": "code",
   "source": [
    "from llama_index.core import SimpleDirectoryReader\n",
    "\n",
    "documents = SimpleDirectoryReader(\n",
    "    input_files = [r\"C:\\Users\\anteb\\OneDrive\\Desktop\\Griffith\\Thesis\\RAG\\AGENTIC RETRIEVAL-AUGMENTED GENERATION A SURVEY ON AGENTIC RAG.pdf\"],\n",
    "    filename_as_id=True).load_data()"
   ],
   "id": "c946944d2285fc3a",
   "outputs": [],
   "execution_count": 13
  },
  {
   "metadata": {
    "ExecuteTime": {
     "end_time": "2025-02-28T21:05:56.645058Z",
     "start_time": "2025-02-28T21:05:14.050102Z"
    }
   },
   "cell_type": "code",
   "source": "!pip install deeplake==3.9.12\n",
   "id": "38839fd75ccd52b7",
   "outputs": [
    {
     "name": "stdout",
     "output_type": "stream",
     "text": [
      "Collecting deeplake==3.9.12\n",
      "  Downloading deeplake-3.9.12.tar.gz (606 kB)\n",
      "     ---------------------------------------- 0.0/606.9 kB ? eta -:--:--\n",
      "     ------------------------------------- 606.9/606.9 kB 11.1 MB/s eta 0:00:00\n",
      "  Installing build dependencies: started\n",
      "  Installing build dependencies: finished with status 'done'\n",
      "  Getting requirements to build wheel: started\n",
      "  Getting requirements to build wheel: finished with status 'done'\n",
      "  Preparing metadata (pyproject.toml): started\n",
      "  Preparing metadata (pyproject.toml): finished with status 'done'\n",
      "Requirement already satisfied: numpy<2.0 in c:\\users\\anteb\\anaconda3\\lib\\site-packages (from deeplake==3.9.12) (1.26.4)\n",
      "Collecting pillow~=10.2.0 (from deeplake==3.9.12)\n",
      "  Downloading pillow-10.2.0-cp312-cp312-win_amd64.whl.metadata (9.9 kB)\n",
      "Requirement already satisfied: boto3 in c:\\users\\anteb\\anaconda3\\lib\\site-packages (from deeplake==3.9.12) (1.37.4)\n",
      "Requirement already satisfied: click in c:\\users\\anteb\\anaconda3\\lib\\site-packages (from deeplake==3.9.12) (8.1.7)\n",
      "Requirement already satisfied: pathos in c:\\users\\anteb\\anaconda3\\lib\\site-packages (from deeplake==3.9.12) (0.3.3)\n",
      "Requirement already satisfied: humbug>=0.3.1 in c:\\users\\anteb\\anaconda3\\lib\\site-packages (from deeplake==3.9.12) (0.3.2)\n",
      "Requirement already satisfied: tqdm in c:\\users\\anteb\\anaconda3\\lib\\site-packages (from deeplake==3.9.12) (4.66.5)\n",
      "Requirement already satisfied: lz4 in c:\\users\\anteb\\anaconda3\\lib\\site-packages (from deeplake==3.9.12) (4.3.2)\n",
      "Requirement already satisfied: pyjwt in c:\\users\\anteb\\anaconda3\\lib\\site-packages (from deeplake==3.9.12) (2.8.0)\n",
      "Requirement already satisfied: pydantic in c:\\users\\anteb\\anaconda3\\lib\\site-packages (from deeplake==3.9.12) (2.10.6)\n",
      "Requirement already satisfied: requests in c:\\users\\anteb\\anaconda3\\lib\\site-packages (from humbug>=0.3.1->deeplake==3.9.12) (2.32.3)\n",
      "Requirement already satisfied: botocore<1.38.0,>=1.37.4 in c:\\users\\anteb\\anaconda3\\lib\\site-packages (from boto3->deeplake==3.9.12) (1.37.4)\n",
      "Requirement already satisfied: jmespath<2.0.0,>=0.7.1 in c:\\users\\anteb\\anaconda3\\lib\\site-packages (from boto3->deeplake==3.9.12) (1.0.1)\n",
      "Requirement already satisfied: s3transfer<0.12.0,>=0.11.0 in c:\\users\\anteb\\anaconda3\\lib\\site-packages (from boto3->deeplake==3.9.12) (0.11.3)\n",
      "Requirement already satisfied: colorama in c:\\users\\anteb\\anaconda3\\lib\\site-packages (from click->deeplake==3.9.12) (0.4.6)\n",
      "Requirement already satisfied: ppft>=1.7.6.9 in c:\\users\\anteb\\anaconda3\\lib\\site-packages (from pathos->deeplake==3.9.12) (1.7.6.9)\n",
      "Requirement already satisfied: dill>=0.3.9 in c:\\users\\anteb\\anaconda3\\lib\\site-packages (from pathos->deeplake==3.9.12) (0.3.9)\n",
      "Requirement already satisfied: pox>=0.3.5 in c:\\users\\anteb\\anaconda3\\lib\\site-packages (from pathos->deeplake==3.9.12) (0.3.5)\n",
      "Requirement already satisfied: multiprocess>=0.70.17 in c:\\users\\anteb\\anaconda3\\lib\\site-packages (from pathos->deeplake==3.9.12) (0.70.17)\n",
      "Requirement already satisfied: annotated-types>=0.6.0 in c:\\users\\anteb\\anaconda3\\lib\\site-packages (from pydantic->deeplake==3.9.12) (0.6.0)\n",
      "Requirement already satisfied: pydantic-core==2.27.2 in c:\\users\\anteb\\anaconda3\\lib\\site-packages (from pydantic->deeplake==3.9.12) (2.27.2)\n",
      "Requirement already satisfied: typing-extensions>=4.12.2 in c:\\users\\anteb\\anaconda3\\lib\\site-packages (from pydantic->deeplake==3.9.12) (4.12.2)\n",
      "Requirement already satisfied: python-dateutil<3.0.0,>=2.1 in c:\\users\\anteb\\anaconda3\\lib\\site-packages (from botocore<1.38.0,>=1.37.4->boto3->deeplake==3.9.12) (2.9.0.post0)\n",
      "Requirement already satisfied: urllib3!=2.2.0,<3,>=1.25.4 in c:\\users\\anteb\\anaconda3\\lib\\site-packages (from botocore<1.38.0,>=1.37.4->boto3->deeplake==3.9.12) (2.2.3)\n",
      "Requirement already satisfied: charset-normalizer<4,>=2 in c:\\users\\anteb\\anaconda3\\lib\\site-packages (from requests->humbug>=0.3.1->deeplake==3.9.12) (3.3.2)\n",
      "Requirement already satisfied: idna<4,>=2.5 in c:\\users\\anteb\\anaconda3\\lib\\site-packages (from requests->humbug>=0.3.1->deeplake==3.9.12) (3.7)\n",
      "Requirement already satisfied: certifi>=2017.4.17 in c:\\users\\anteb\\anaconda3\\lib\\site-packages (from requests->humbug>=0.3.1->deeplake==3.9.12) (2025.1.31)\n",
      "Requirement already satisfied: six>=1.5 in c:\\users\\anteb\\anaconda3\\lib\\site-packages (from python-dateutil<3.0.0,>=2.1->botocore<1.38.0,>=1.37.4->boto3->deeplake==3.9.12) (1.16.0)\n",
      "Downloading pillow-10.2.0-cp312-cp312-win_amd64.whl (2.6 MB)\n",
      "   ---------------------------------------- 0.0/2.6 MB ? eta -:--:--\n",
      "   ----------------------------------- ---- 2.4/2.6 MB 33.8 MB/s eta 0:00:01\n",
      "   ---------------------------------------- 2.6/2.6 MB 7.2 MB/s eta 0:00:00\n",
      "Building wheels for collected packages: deeplake\n",
      "  Building wheel for deeplake (pyproject.toml): started\n",
      "  Building wheel for deeplake (pyproject.toml): finished with status 'done'\n",
      "  Created wheel for deeplake: filename=deeplake-3.9.12-py3-none-any.whl size=729581 sha256=10f15be11d0e9b947a24a9d6efd54f589b8c515ee9f1ae3bc3a8bb8dac195458\n",
      "  Stored in directory: c:\\users\\anteb\\appdata\\local\\pip\\cache\\wheels\\92\\67\\0f\\3ada0b15e577752bdd57d7d801ec8e37f4024a1707978ed0a1\n",
      "Successfully built deeplake\n",
      "Installing collected packages: pillow, deeplake\n",
      "  Attempting uninstall: pillow\n",
      "    Found existing installation: pillow 10.4.0\n",
      "    Uninstalling pillow-10.4.0:\n",
      "      Successfully uninstalled pillow-10.4.0\n",
      "  Attempting uninstall: deeplake\n",
      "    Found existing installation: deeplake 3.6.8\n",
      "    Uninstalling deeplake-3.6.8:\n",
      "      Successfully uninstalled deeplake-3.6.8\n",
      "Successfully installed deeplake-3.9.12 pillow-10.2.0\n"
     ]
    },
    {
     "name": "stderr",
     "output_type": "stream",
     "text": [
      "WARNING: Ignoring invalid distribution ~okenizers (C:\\Users\\anteb\\anaconda3\\Lib\\site-packages)\n",
      "WARNING: Ignoring invalid distribution ~okenizers (C:\\Users\\anteb\\anaconda3\\Lib\\site-packages)\n",
      "WARNING: Ignoring invalid distribution ~okenizers (C:\\Users\\anteb\\anaconda3\\Lib\\site-packages)\n",
      "ERROR: pip's dependency resolver does not currently take into account all the packages that are installed. This behaviour is the source of the following dependency conflicts.\n",
      "fastembed 0.6.0 requires pillow<12.0.0,>=10.3.0, but you have pillow 10.2.0 which is incompatible.\n",
      "llama-index-embeddings-fastembed 0.3.0 requires llama-index-core<0.13.0,>=0.12.0, but you have llama-index-core 0.10.68.post1 which is incompatible.\n",
      "llama-index-embeddings-langchain 0.3.0 requires llama-index-core<0.13.0,>=0.12.0, but you have llama-index-core 0.10.68.post1 which is incompatible.\n",
      "llama-index-llms-mistralai 0.3.3 requires llama-index-core<0.13.0,>=0.12.0, but you have llama-index-core 0.10.68.post1 which is incompatible.\n",
      "llama-index-vector-stores-deeplake 0.3.2 requires llama-index-core<0.13.0,>=0.12.0, but you have llama-index-core 0.10.68.post1 which is incompatible.\n"
     ]
    }
   ],
   "execution_count": 19
  },
  {
   "metadata": {
    "ExecuteTime": {
     "end_time": "2025-02-28T21:12:45.676569Z",
     "start_time": "2025-02-28T21:12:45.091240Z"
    }
   },
   "cell_type": "code",
   "source": [
    "from qdrant_client import QdrantClient\n",
    "from llama_index.core import VectorStoreIndex, StorageContext\n",
    "# Delaying this import\n",
    "# from llama_index.vector_stores.deeplake import DeepLakeVectorStore\n",
    "from llama_index.core.ingestion import IngestionCache, IngestionPipeline\n",
    "from llama_index.core.node_parser import TokenTextSplitter\n",
    "\n",
    "# Move this import after the other imports, delaying it until necessary\n",
    "from llama_index.vector_stores.deeplake import DeepLakeVectorStore\n",
    "\n",
    "\n",
    "# construct vector store and customize storage context\n",
    "vector_store_db = DeepLakeVectorStore(dataset_path=r\"C:\\Users\\anteb\\Desktop\\Courses\")\n",
    "storage_context = StorageContext.from_defaults(vector_store=vector_store_db)\n",
    "# Load documents and build index\n",
    "index_1 = VectorStoreIndex.from_documents(\n",
    "    documents, storage_context=storage_context\n",
    ")\n",
    "\n",
    "\n",
    "## reload an existing one\n",
    "index_1 = VectorStoreIndex.from_vector_store(vector_store=vector_store_db)\n",
    "\n",
    "# client = QdrantClient(\n",
    "#     url=QDRANT_CLIENT,\n",
    "#     api_key=API_KEY_QDRANT,\n",
    "# )\n",
    "# vector_store = QdrantVectorStore(\n",
    "#     client=client,\n",
    "#     collection_name=\"new_collection\",)\n",
    "#\n",
    "# ingest_cache = IngestionCache(\n",
    "#     collection=\"new_collection\",\n",
    "# )\n",
    "#\n",
    "# # create pipeline with transformations\n",
    "# pipeline = IngestionPipeline(\n",
    "#     transformations=[\n",
    "#         TokenTextSplitter(chunk_size=256, chunk_overlap=16),\n",
    "#         Settings.embed_model\n",
    "#     ],\n",
    "#     docstore=SimpleDocumentStore(),\n",
    "#     vector_store=vector_store,\n",
    "#     cache=ingest_cache,\n",
    "# )\n",
    "#\n",
    "# # run the pipeline\n",
    "# nodes = pipeline.run(documents = documents)"
   ],
   "id": "f2a0568d254829c3",
   "outputs": [
    {
     "ename": "AttributeError",
     "evalue": "partially initialized module 'deeplake' has no attribute 'core' (most likely due to a circular import)",
     "output_type": "error",
     "traceback": [
      "\u001B[1;31m---------------------------------------------------------------------------\u001B[0m",
      "\u001B[1;31mAttributeError\u001B[0m                            Traceback (most recent call last)",
      "Cell \u001B[1;32mIn[25], line 9\u001B[0m\n\u001B[0;32m      6\u001B[0m \u001B[38;5;28;01mfrom\u001B[39;00m \u001B[38;5;21;01mllama_index\u001B[39;00m\u001B[38;5;21;01m.\u001B[39;00m\u001B[38;5;21;01mcore\u001B[39;00m\u001B[38;5;21;01m.\u001B[39;00m\u001B[38;5;21;01mnode_parser\u001B[39;00m \u001B[38;5;28;01mimport\u001B[39;00m TokenTextSplitter\n\u001B[0;32m      8\u001B[0m \u001B[38;5;66;03m# Move this import after the other imports, delaying it until necessary\u001B[39;00m\n\u001B[1;32m----> 9\u001B[0m \u001B[38;5;28;01mfrom\u001B[39;00m \u001B[38;5;21;01mllama_index\u001B[39;00m\u001B[38;5;21;01m.\u001B[39;00m\u001B[38;5;21;01mvector_stores\u001B[39;00m\u001B[38;5;21;01m.\u001B[39;00m\u001B[38;5;21;01mdeeplake\u001B[39;00m \u001B[38;5;28;01mimport\u001B[39;00m DeepLakeVectorStore\n\u001B[0;32m     12\u001B[0m \u001B[38;5;66;03m# construct vector store and customize storage context\u001B[39;00m\n\u001B[0;32m     13\u001B[0m vector_store_db \u001B[38;5;241m=\u001B[39m DeepLakeVectorStore(dataset_path\u001B[38;5;241m=\u001B[39m\u001B[38;5;124mr\u001B[39m\u001B[38;5;124m\"\u001B[39m\u001B[38;5;124mC:\u001B[39m\u001B[38;5;124m\\\u001B[39m\u001B[38;5;124mUsers\u001B[39m\u001B[38;5;124m\\\u001B[39m\u001B[38;5;124manteb\u001B[39m\u001B[38;5;124m\\\u001B[39m\u001B[38;5;124mDesktop\u001B[39m\u001B[38;5;124m\\\u001B[39m\u001B[38;5;124mCourses\u001B[39m\u001B[38;5;124m\"\u001B[39m)\n",
      "File \u001B[1;32m~\\anaconda3\\Lib\\site-packages\\llama_index\\vector_stores\\deeplake\\__init__.py:1\u001B[0m\n\u001B[1;32m----> 1\u001B[0m \u001B[38;5;28;01mfrom\u001B[39;00m \u001B[38;5;21;01mllama_index\u001B[39;00m\u001B[38;5;21;01m.\u001B[39;00m\u001B[38;5;21;01mvector_stores\u001B[39;00m\u001B[38;5;21;01m.\u001B[39;00m\u001B[38;5;21;01mdeeplake\u001B[39;00m\u001B[38;5;21;01m.\u001B[39;00m\u001B[38;5;21;01mbase\u001B[39;00m \u001B[38;5;28;01mimport\u001B[39;00m DeepLakeVectorStore\n\u001B[0;32m      3\u001B[0m __all__ \u001B[38;5;241m=\u001B[39m [\u001B[38;5;124m\"\u001B[39m\u001B[38;5;124mDeepLakeVectorStore\u001B[39m\u001B[38;5;124m\"\u001B[39m]\n",
      "File \u001B[1;32m~\\anaconda3\\Lib\\site-packages\\llama_index\\vector_stores\\deeplake\\base.py:27\u001B[0m\n\u001B[0;32m     21\u001B[0m \u001B[38;5;28;01mfrom\u001B[39;00m \u001B[38;5;21;01mllama_index\u001B[39;00m\u001B[38;5;21;01m.\u001B[39;00m\u001B[38;5;21;01mcore\u001B[39;00m\u001B[38;5;21;01m.\u001B[39;00m\u001B[38;5;21;01mvector_stores\u001B[39;00m\u001B[38;5;21;01m.\u001B[39;00m\u001B[38;5;21;01mutils\u001B[39;00m \u001B[38;5;28;01mimport\u001B[39;00m (\n\u001B[0;32m     22\u001B[0m     metadata_dict_to_node,\n\u001B[0;32m     23\u001B[0m     node_to_metadata_dict,\n\u001B[0;32m     24\u001B[0m )\n\u001B[0;32m     26\u001B[0m \u001B[38;5;28;01mtry\u001B[39;00m:\n\u001B[1;32m---> 27\u001B[0m     \u001B[38;5;28;01mimport\u001B[39;00m \u001B[38;5;21;01mdeeplake\u001B[39;00m\n\u001B[0;32m     29\u001B[0m     \u001B[38;5;28;01mif\u001B[39;00m deeplake\u001B[38;5;241m.\u001B[39m__version__\u001B[38;5;241m.\u001B[39mstartswith(\u001B[38;5;124m\"\u001B[39m\u001B[38;5;124m3.\u001B[39m\u001B[38;5;124m\"\u001B[39m):\n\u001B[0;32m     30\u001B[0m         DEEPLAKE_V4 \u001B[38;5;241m=\u001B[39m \u001B[38;5;28;01mFalse\u001B[39;00m\n",
      "File \u001B[1;32m~\\anaconda3\\Lib\\site-packages\\deeplake\\__init__.py:14\u001B[0m\n\u001B[0;32m     11\u001B[0m \u001B[38;5;28;01mimport\u001B[39;00m \u001B[38;5;21;01msys\u001B[39;00m\n\u001B[0;32m     12\u001B[0m \u001B[38;5;28;01mfrom\u001B[39;00m \u001B[38;5;21;01mdeeplake\u001B[39;00m\u001B[38;5;21;01m.\u001B[39;00m\u001B[38;5;21;01mutil\u001B[39;00m\u001B[38;5;21;01m.\u001B[39;00m\u001B[38;5;21;01mcheck_latest_version\u001B[39;00m \u001B[38;5;28;01mimport\u001B[39;00m warn_if_update_required\n\u001B[1;32m---> 14\u001B[0m \u001B[38;5;28;01mfrom\u001B[39;00m \u001B[38;5;21;01mdeeplake\u001B[39;00m\u001B[38;5;21;01m.\u001B[39;00m\u001B[38;5;21;01mcore\u001B[39;00m\u001B[38;5;21;01m.\u001B[39;00m\u001B[38;5;21;01mvectorstore\u001B[39;00m \u001B[38;5;28;01mimport\u001B[39;00m VectorStore\n\u001B[0;32m     17\u001B[0m \u001B[38;5;28;01mif\u001B[39;00m sys\u001B[38;5;241m.\u001B[39mplatform \u001B[38;5;241m==\u001B[39m \u001B[38;5;124m\"\u001B[39m\u001B[38;5;124mdarwin\u001B[39m\u001B[38;5;124m\"\u001B[39m:\n\u001B[0;32m     18\u001B[0m     multiprocessing\u001B[38;5;241m.\u001B[39mset_start_method(\u001B[38;5;124m\"\u001B[39m\u001B[38;5;124mfork\u001B[39m\u001B[38;5;124m\"\u001B[39m, force\u001B[38;5;241m=\u001B[39m\u001B[38;5;28;01mTrue\u001B[39;00m)\n",
      "File \u001B[1;32m~\\anaconda3\\Lib\\site-packages\\deeplake\\core\\vectorstore\\__init__.py:5\u001B[0m\n\u001B[0;32m      1\u001B[0m \u001B[38;5;28;01mfrom\u001B[39;00m \u001B[38;5;21;01mdeeplake\u001B[39;00m\u001B[38;5;21;01m.\u001B[39;00m\u001B[38;5;21;01mcore\u001B[39;00m\u001B[38;5;21;01m.\u001B[39;00m\u001B[38;5;21;01mvectorstore\u001B[39;00m\u001B[38;5;21;01m.\u001B[39;00m\u001B[38;5;21;01mvector_search\u001B[39;00m \u001B[38;5;28;01mimport\u001B[39;00m utils\n\u001B[0;32m      2\u001B[0m \u001B[38;5;28;01mfrom\u001B[39;00m \u001B[38;5;21;01mdeeplake\u001B[39;00m\u001B[38;5;21;01m.\u001B[39;00m\u001B[38;5;21;01mcore\u001B[39;00m\u001B[38;5;21;01m.\u001B[39;00m\u001B[38;5;21;01mvectorstore\u001B[39;00m\u001B[38;5;21;01m.\u001B[39;00m\u001B[38;5;21;01mvector_search\u001B[39;00m\u001B[38;5;21;01m.\u001B[39;00m\u001B[38;5;21;01mindra\u001B[39;00m\u001B[38;5;21;01m.\u001B[39;00m\u001B[38;5;21;01mvector_search\u001B[39;00m \u001B[38;5;28;01mimport\u001B[39;00m (\n\u001B[0;32m      3\u001B[0m     vector_search \u001B[38;5;28;01mas\u001B[39;00m indra_vector_search,\n\u001B[0;32m      4\u001B[0m )\n\u001B[1;32m----> 5\u001B[0m \u001B[38;5;28;01mfrom\u001B[39;00m \u001B[38;5;21;01mdeeplake\u001B[39;00m\u001B[38;5;21;01m.\u001B[39;00m\u001B[38;5;21;01mcore\u001B[39;00m\u001B[38;5;21;01m.\u001B[39;00m\u001B[38;5;21;01mvectorstore\u001B[39;00m\u001B[38;5;21;01m.\u001B[39;00m\u001B[38;5;21;01mvector_search\u001B[39;00m\u001B[38;5;21;01m.\u001B[39;00m\u001B[38;5;21;01mpython\u001B[39;00m\u001B[38;5;21;01m.\u001B[39;00m\u001B[38;5;21;01mvector_search\u001B[39;00m \u001B[38;5;28;01mimport\u001B[39;00m (\n\u001B[0;32m      6\u001B[0m     vector_search \u001B[38;5;28;01mas\u001B[39;00m python_vector_search,\n\u001B[0;32m      7\u001B[0m )\n\u001B[0;32m      8\u001B[0m \u001B[38;5;28;01mfrom\u001B[39;00m \u001B[38;5;21;01mdeeplake\u001B[39;00m\u001B[38;5;21;01m.\u001B[39;00m\u001B[38;5;21;01mcore\u001B[39;00m\u001B[38;5;21;01m.\u001B[39;00m\u001B[38;5;21;01mvectorstore\u001B[39;00m\u001B[38;5;21;01m.\u001B[39;00m\u001B[38;5;21;01mvector_search\u001B[39;00m\u001B[38;5;21;01m.\u001B[39;00m\u001B[38;5;21;01mpython\u001B[39;00m\u001B[38;5;21;01m.\u001B[39;00m\u001B[38;5;21;01msearch_algorithm\u001B[39;00m \u001B[38;5;28;01mimport\u001B[39;00m (\n\u001B[0;32m      9\u001B[0m     search \u001B[38;5;28;01mas\u001B[39;00m python_search_algorithm,\n\u001B[0;32m     10\u001B[0m )\n\u001B[0;32m     11\u001B[0m \u001B[38;5;28;01mfrom\u001B[39;00m \u001B[38;5;21;01mdeeplake\u001B[39;00m\u001B[38;5;21;01m.\u001B[39;00m\u001B[38;5;21;01mcore\u001B[39;00m\u001B[38;5;21;01m.\u001B[39;00m\u001B[38;5;21;01mvectorstore\u001B[39;00m\u001B[38;5;21;01m.\u001B[39;00m\u001B[38;5;21;01mvector_search\u001B[39;00m\u001B[38;5;21;01m.\u001B[39;00m\u001B[38;5;21;01mindra\u001B[39;00m\u001B[38;5;21;01m.\u001B[39;00m\u001B[38;5;21;01msearch_algorithm\u001B[39;00m \u001B[38;5;28;01mimport\u001B[39;00m (\n\u001B[0;32m     12\u001B[0m     search \u001B[38;5;28;01mas\u001B[39;00m indra_search_algorithm,\n\u001B[0;32m     13\u001B[0m )\n",
      "File \u001B[1;32m~\\anaconda3\\Lib\\site-packages\\deeplake\\core\\vectorstore\\vector_search\\python\\vector_search.py:2\u001B[0m\n\u001B[0;32m      1\u001B[0m \u001B[38;5;28;01mfrom\u001B[39;00m \u001B[38;5;21;01mdeeplake\u001B[39;00m\u001B[38;5;21;01m.\u001B[39;00m\u001B[38;5;21;01mcore\u001B[39;00m \u001B[38;5;28;01mimport\u001B[39;00m vectorstore\n\u001B[1;32m----> 2\u001B[0m \u001B[38;5;28;01mfrom\u001B[39;00m \u001B[38;5;21;01mdeeplake\u001B[39;00m\u001B[38;5;21;01m.\u001B[39;00m\u001B[38;5;21;01mcore\u001B[39;00m\u001B[38;5;21;01m.\u001B[39;00m\u001B[38;5;21;01mvectorstore\u001B[39;00m\u001B[38;5;21;01m.\u001B[39;00m\u001B[38;5;21;01mvector_search\u001B[39;00m \u001B[38;5;28;01mimport\u001B[39;00m dataset \u001B[38;5;28;01mas\u001B[39;00m dataset_utils\n\u001B[0;32m      3\u001B[0m \u001B[38;5;28;01mfrom\u001B[39;00m \u001B[38;5;21;01mdeeplake\u001B[39;00m\u001B[38;5;21;01m.\u001B[39;00m\u001B[38;5;21;01mcore\u001B[39;00m\u001B[38;5;21;01m.\u001B[39;00m\u001B[38;5;21;01mvectorstore\u001B[39;00m\u001B[38;5;21;01m.\u001B[39;00m\u001B[38;5;21;01mvector_search\u001B[39;00m \u001B[38;5;28;01mimport\u001B[39;00m \u001B[38;5;28mfilter\u001B[39m \u001B[38;5;28;01mas\u001B[39;00m filter_utils\n\u001B[0;32m      4\u001B[0m \u001B[38;5;28;01mfrom\u001B[39;00m \u001B[38;5;21;01mdeeplake\u001B[39;00m\u001B[38;5;21;01m.\u001B[39;00m\u001B[38;5;21;01mcore\u001B[39;00m\u001B[38;5;21;01m.\u001B[39;00m\u001B[38;5;21;01mvectorstore\u001B[39;00m\u001B[38;5;21;01m.\u001B[39;00m\u001B[38;5;21;01mvector_search\u001B[39;00m \u001B[38;5;28;01mimport\u001B[39;00m utils\n",
      "File \u001B[1;32m~\\anaconda3\\Lib\\site-packages\\deeplake\\core\\vectorstore\\vector_search\\dataset\\__init__.py:1\u001B[0m\n\u001B[1;32m----> 1\u001B[0m \u001B[38;5;28;01mfrom\u001B[39;00m \u001B[38;5;21;01mdeeplake\u001B[39;00m\u001B[38;5;21;01m.\u001B[39;00m\u001B[38;5;21;01mcore\u001B[39;00m\u001B[38;5;21;01m.\u001B[39;00m\u001B[38;5;21;01mvectorstore\u001B[39;00m\u001B[38;5;21;01m.\u001B[39;00m\u001B[38;5;21;01mvector_search\u001B[39;00m\u001B[38;5;21;01m.\u001B[39;00m\u001B[38;5;21;01mdataset\u001B[39;00m\u001B[38;5;21;01m.\u001B[39;00m\u001B[38;5;21;01mdataset\u001B[39;00m \u001B[38;5;28;01mimport\u001B[39;00m (\n\u001B[0;32m      2\u001B[0m     create_or_load_dataset,\n\u001B[0;32m      3\u001B[0m     delete_and_commit,\n\u001B[0;32m      4\u001B[0m     delete_and_without_commit,\n\u001B[0;32m      5\u001B[0m     delete_all_samples_if_specified,\n\u001B[0;32m      6\u001B[0m     fetch_embeddings,\n\u001B[0;32m      7\u001B[0m     get_embedding,\n\u001B[0;32m      8\u001B[0m     preprocess_tensors,\n\u001B[0;32m      9\u001B[0m     create_elements,\n\u001B[0;32m     10\u001B[0m     extend_or_ingest_dataset,\n\u001B[0;32m     11\u001B[0m     convert_id_to_row_id,\n\u001B[0;32m     12\u001B[0m     search_row_ids,\n\u001B[0;32m     13\u001B[0m     extend,\n\u001B[0;32m     14\u001B[0m     populate_rate_limiter,\n\u001B[0;32m     15\u001B[0m )\n",
      "File \u001B[1;32m~\\anaconda3\\Lib\\site-packages\\deeplake\\core\\vectorstore\\vector_search\\dataset\\dataset.py:457\u001B[0m\n\u001B[0;32m    447\u001B[0m             batched_processed_tensors[tensor_name] \u001B[38;5;241m=\u001B[39m tensor_data[start_idx:end_idx]\n\u001B[0;32m    449\u001B[0m     \u001B[38;5;28;01mreturn\u001B[39;00m batched_processed_tensors\n\u001B[0;32m    452\u001B[0m \u001B[38;5;28;01mdef\u001B[39;00m \u001B[38;5;21mextend\u001B[39m(\n\u001B[0;32m    453\u001B[0m     embedding_function: List[Callable],\n\u001B[0;32m    454\u001B[0m     embedding_data: List[Any],\n\u001B[0;32m    455\u001B[0m     embedding_tensor: Union[\u001B[38;5;28mstr\u001B[39m, List[\u001B[38;5;28mstr\u001B[39m]],\n\u001B[0;32m    456\u001B[0m     processed_tensors: Dict[\u001B[38;5;28mstr\u001B[39m, Union[List[Any], np\u001B[38;5;241m.\u001B[39mndarray]],\n\u001B[1;32m--> 457\u001B[0m     dataset: deeplake\u001B[38;5;241m.\u001B[39mcore\u001B[38;5;241m.\u001B[39mdataset\u001B[38;5;241m.\u001B[39mDataset,\n\u001B[0;32m    458\u001B[0m     rate_limiter: Dict,\n\u001B[0;32m    459\u001B[0m     _extend_batch_size: \u001B[38;5;28mint\u001B[39m \u001B[38;5;241m=\u001B[39m VECTORSTORE_EXTEND_BATCH_SIZE,\n\u001B[0;32m    460\u001B[0m     logger\u001B[38;5;241m=\u001B[39m\u001B[38;5;28;01mNone\u001B[39;00m,\n\u001B[0;32m    461\u001B[0m ):\n\u001B[0;32m    462\u001B[0m \u001B[38;5;250m    \u001B[39m\u001B[38;5;124;03m\"\"\"\u001B[39;00m\n\u001B[0;32m    463\u001B[0m \u001B[38;5;124;03m    Function to extend the dataset with new data.\u001B[39;00m\n\u001B[0;32m    464\u001B[0m \u001B[38;5;124;03m    \"\"\"\u001B[39;00m\n\u001B[0;32m    465\u001B[0m     \u001B[38;5;28;01mif\u001B[39;00m embedding_data \u001B[38;5;129;01mand\u001B[39;00m \u001B[38;5;129;01mnot\u001B[39;00m \u001B[38;5;28misinstance\u001B[39m(embedding_data[\u001B[38;5;241m0\u001B[39m], \u001B[38;5;28mlist\u001B[39m):\n",
      "\u001B[1;31mAttributeError\u001B[0m: partially initialized module 'deeplake' has no attribute 'core' (most likely due to a circular import)"
     ]
    }
   ],
   "execution_count": 25
  },
  {
   "metadata": {},
   "cell_type": "code",
   "outputs": [],
   "execution_count": null,
   "source": "",
   "id": "13a9cfd541245da6"
  }
 ],
 "metadata": {
  "kernelspec": {
   "display_name": "Python 3",
   "language": "python",
   "name": "python3"
  },
  "language_info": {
   "codemirror_mode": {
    "name": "ipython",
    "version": 2
   },
   "file_extension": ".py",
   "mimetype": "text/x-python",
   "name": "python",
   "nbconvert_exporter": "python",
   "pygments_lexer": "ipython2",
   "version": "2.7.6"
  }
 },
 "nbformat": 4,
 "nbformat_minor": 5
}
