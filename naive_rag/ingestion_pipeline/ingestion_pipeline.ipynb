{
 "cells": [
  {
   "metadata": {
    "ExecuteTime": {
     "end_time": "2025-02-26T18:43:18.749292Z",
     "start_time": "2025-02-26T18:43:15.570970Z"
    }
   },
   "cell_type": "code",
   "source": [
    "%%capture\n",
    "!pip install llama-index==0.10.37 llama-index-embeddings-openai==0.1.9 qdrant-client==1.9.1 llama-index-vector-stores-qdrant==0.2.8 llama-index-llms-cohere==0.2.0"
   ],
   "id": "526992ec5219d3e8",
   "outputs": [],
   "execution_count": 1
  },
  {
   "metadata": {
    "collapsed": true,
    "ExecuteTime": {
     "end_time": "2025-02-26T18:43:23.286509Z",
     "start_time": "2025-02-26T18:43:23.261688Z"
    }
   },
   "cell_type": "code",
   "source": [
    "import os\n",
    "from dotenv import load_dotenv\n",
    "from getpass import getpass\n",
    "\n",
    "import nest_asyncio\n",
    "\n",
    "nest_asyncio.apply()\n",
    "load_dotenv()"
   ],
   "id": "initial_id",
   "outputs": [
    {
     "data": {
      "text/plain": [
       "True"
      ]
     },
     "execution_count": 2,
     "metadata": {},
     "output_type": "execute_result"
    }
   ],
   "execution_count": 2
  },
  {
   "metadata": {
    "ExecuteTime": {
     "end_time": "2025-02-26T18:49:30.927411Z",
     "start_time": "2025-02-26T18:49:30.919062Z"
    }
   },
   "cell_type": "code",
   "source": [
    "API_KEY_CO= os.getenv(\"API_KEY_COHERE\")\n",
    "API_KEY_OPEN_AI = os.getenv(\"API_KEY_OPEN_AI\")\n",
    "API_KEY_QDRANT = os.getenv(\"API_KEY_QDRANT\")"
   ],
   "id": "7f5487a9510ffdf3",
   "outputs": [],
   "execution_count": 5
  },
  {
   "metadata": {
    "ExecuteTime": {
     "end_time": "2025-02-26T18:57:52.076288Z",
     "start_time": "2025-02-26T18:57:51.169999Z"
    }
   },
   "cell_type": "code",
   "source": [
    "from llama_index.core import SimpleDirectoryReader\n",
    "\n",
    "documents = SimpleDirectoryReader(\n",
    "    input_files = [r\"C:\\Users\\anteb\\Desktop\\AGENTIC RETRIEVAL-AUGMENTED GENERATION A SURVEY ON AGENTIC RAG.pdf\"],\n",
    "    filename_as_id=True).load_data()"
   ],
   "id": "3e29ebcb8d6a5960",
   "outputs": [],
   "execution_count": 9
  }
 ],
 "metadata": {
  "kernelspec": {
   "display_name": "Python 3",
   "language": "python",
   "name": "python3"
  },
  "language_info": {
   "codemirror_mode": {
    "name": "ipython",
    "version": 2
   },
   "file_extension": ".py",
   "mimetype": "text/x-python",
   "name": "python",
   "nbconvert_exporter": "python",
   "pygments_lexer": "ipython2",
   "version": "2.7.6"
  }
 },
 "nbformat": 4,
 "nbformat_minor": 5
}
