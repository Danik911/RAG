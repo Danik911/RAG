{
 "cells": [
  {
   "cell_type": "code",
   "id": "initial_id",
   "metadata": {
    "collapsed": true,
    "ExecuteTime": {
     "end_time": "2025-03-05T12:09:39.732863Z",
     "start_time": "2025-03-05T12:09:35.400607Z"
    }
   },
   "source": "pip install requests beautifulsoup4 lxml python-dotenv nest_asyncio",
   "outputs": [
    {
     "name": "stdout",
     "output_type": "stream",
     "text": [
      "Requirement already satisfied: requests in c:\\users\\anteb\\anaconda3\\lib\\site-packages (2.32.3)Note: you may need to restart the kernel to use updated packages.\n",
      "\n",
      "Requirement already satisfied: beautifulsoup4 in c:\\users\\anteb\\anaconda3\\lib\\site-packages (4.12.3)\n",
      "Requirement already satisfied: lxml in c:\\users\\anteb\\anaconda3\\lib\\site-packages (5.2.1)\n",
      "Requirement already satisfied: python-dotenv in c:\\users\\anteb\\anaconda3\\lib\\site-packages (1.0.1)\n",
      "Requirement already satisfied: nest_asyncio in c:\\users\\anteb\\anaconda3\\lib\\site-packages (1.6.0)\n",
      "Requirement already satisfied: charset-normalizer<4,>=2 in c:\\users\\anteb\\anaconda3\\lib\\site-packages (from requests) (3.3.2)\n",
      "Requirement already satisfied: idna<4,>=2.5 in c:\\users\\anteb\\anaconda3\\lib\\site-packages (from requests) (3.7)\n",
      "Requirement already satisfied: urllib3<3,>=1.21.1 in c:\\users\\anteb\\anaconda3\\lib\\site-packages (from requests) (2.2.3)\n",
      "Requirement already satisfied: certifi>=2017.4.17 in c:\\users\\anteb\\anaconda3\\lib\\site-packages (from requests) (2025.1.31)\n",
      "Requirement already satisfied: soupsieve>1.2 in c:\\users\\anteb\\anaconda3\\lib\\site-packages (from beautifulsoup4) (2.5)\n"
     ]
    },
    {
     "name": "stderr",
     "output_type": "stream",
     "text": [
      "WARNING: Ignoring invalid distribution ~okenizers (C:\\Users\\anteb\\anaconda3\\Lib\\site-packages)\n",
      "WARNING: Ignoring invalid distribution ~okenizers (C:\\Users\\anteb\\anaconda3\\Lib\\site-packages)\n",
      "WARNING: Ignoring invalid distribution ~okenizers (C:\\Users\\anteb\\anaconda3\\Lib\\site-packages)\n"
     ]
    }
   ],
   "execution_count": 1
  },
  {
   "metadata": {
    "ExecuteTime": {
     "end_time": "2025-03-06T18:21:45.382209Z",
     "start_time": "2025-03-06T18:21:38.540064Z"
    }
   },
   "cell_type": "code",
   "source": [
    "import requests\n",
    "from bs4 import BeautifulSoup\n",
    "from lxml import etree as ET\n",
    "from pathlib import Path\n",
    "\n",
    "def scrape_to_xml(url, output_file, output_dir=\".\"):\n",
    "    # Ensure the output directory exists\n",
    "    output_path = Path(output_dir)\n",
    "    output_path.mkdir(parents=True, exist_ok=True)\n",
    "    full_output_file = output_path / output_file\n",
    "\n",
    "    # Step 1: Download the webpage\n",
    "    response = requests.get(url)\n",
    "    response.raise_for_status()  # Raise an exception for HTTP errors\n",
    "\n",
    "    # Step 2: Parse HTML content with BeautifulSoup using the lxml parser\n",
    "    soup = BeautifulSoup(response.content, 'lxml')\n",
    "\n",
    "    # Create the root XML element\n",
    "    root = ET.Element(\"webpage\")\n",
    "\n",
    "    # Add the page title (if available)\n",
    "    title_text = soup.title.string if soup.title else \"No Title\"\n",
    "    title_element = ET.SubElement(root, \"title\")\n",
    "    title_element.text = title_text\n",
    "\n",
    "    # Add text content by extracting paragraphs\n",
    "    text_element = ET.SubElement(root, \"text\")\n",
    "    paragraphs = soup.find_all('p')\n",
    "    for p in paragraphs:\n",
    "        para_element = ET.SubElement(text_element, \"paragraph\")\n",
    "        para_element.text = p.get_text(strip=True)\n",
    "\n",
    "    # # Add graphs (assuming graphs are in SVG tags)\n",
    "    # graphs_element = ET.SubElement(root, \"graphs\")\n",
    "    # svg_elements = soup.find_all('svg')\n",
    "    # for svg in svg_elements:\n",
    "    #     graph_element = ET.SubElement(graphs_element, \"graph\")\n",
    "    #     graph_element.text = ET.tostring(ET.fromstring(str(svg)), encoding='unicode')\n",
    "\n",
    "        # Add graphs (assuming graphs are in SVG tags)\n",
    "    graphs_element = ET.SubElement(root, \"graphs\")\n",
    "    svg_elements = soup.find_all('svg')\n",
    "    for svg in svg_elements:\n",
    "        graph_element = ET.SubElement(graphs_element, \"graph\")\n",
    "        # Directly store the SVG element as a string to avoid XML parsing issues\n",
    "        graph_element.text = str(svg)\n",
    "\n",
    "\n",
    "    # Step 3: Create an ElementTree and write the XML file to disk\n",
    "    tree = ET.ElementTree(root)\n",
    "    tree.write(str(full_output_file), pretty_print=True, xml_declaration=True, encoding='UTF-8')\n",
    "\n",
    "    print(f\"Scraping complete. XML file saved as {full_output_file}\")\n",
    "\n",
    "# List of web links to scrape\n",
    "urls = [\n",
    "    # \"https://www.chemanager-online.com/en/news/pharmas-digital-transformation\",\n",
    "    # \"https://www.mdpi.com/2075-4426/14/6/546\",\n",
    "    # \"https://ispe.org/pharmaceutical-engineering/challenges-opportunities-emerging-digital-health-technologies\",\n",
    "    # \"https://ispe.org/pharmaceutical-engineering/november-december-2024/decarbonizing-pharmaceutical-manufacturing\"\n",
    "    # \"https://ispe.org/pharmaceutical-engineering/september-october-2024/7th-ispe-pharma-40tm-survey-digital\",\n",
    "    # \"https://www.chemanager-online.com/en/news/pharmas-digital-transformation\",\n",
    "    # \"https://www.ey.com/en_ie/insights/ai/5-questions-to-help-you-build-a-long-term-ai-strategy\",\n",
    "    # \"https://slcontrols.com/en/press-release-sl-controls-to-merge-with-multinational-nnit/#:~:text=In%20January%202025%2C%20SL%20Controls,of%20the%20future%20of%20manufacturing.\",\n",
    "    # \"https://www.thinkbusiness.ie/articles/sl-controls-sligo-industry-4-automation-scale-up/\",\n",
    "    # \"https://slcontrols.com/solutions/digital-transformation/\",\n",
    "    # \"https://www.nnit.com/our-solutions/manufacturing-supply-chain/smart-factory/smart-factory-trends-that-will-shape-the-life-sciences-sector-in-2025/\"\n",
    "    \"https://tech.eu/2025/01/06/sl-controls-and-nnit-merge-creates-to-create-global-smart-factory/#:~:text=Founded%20in%202002%20in%20Ireland%2C,competitive%20in%20the%20manufacturing%20industry\",\n",
    "    \"https://meltwater.pressify.io/publication/5c7791a0c04da1000463da8e/5c77905f7151a51000955f13\",\n",
    "    \"https://ispe.org/initiatives/pharma-4.0\",\n",
    "    # \"https://www.nnit.com/about-us/we-make-a-mark/our-strategy/\",\n",
    "    # \"https://www.nnit.com/about-us/we-make-a-mark/our-values/\",\n",
    "    # \"https://www.nnit.com/about-us/we-make-a-mark/our-history/\"\n",
    "\n",
    "]\n",
    "\n",
    "output_directory = \"NNIT_information\"  # Desired output folder\n",
    "\n",
    "# Iterate over the list of URLs and scrape each one to a separate XML file\n",
    "for i, url in enumerate(urls, start=1):\n",
    "    output_file = f\"webpage_{i}.xml\"\n",
    "    scrape_to_xml(url, output_file, output_directory)"
   ],
   "id": "c7697013bbad3b4b",
   "outputs": [
    {
     "name": "stdout",
     "output_type": "stream",
     "text": [
      "Scraping complete. XML file saved as NNIT_information\\webpage_1.xml\n",
      "Scraping complete. XML file saved as NNIT_information\\webpage_2.xml\n",
      "Scraping complete. XML file saved as NNIT_information\\webpage_3.xml\n"
     ]
    }
   ],
   "execution_count": 5
  },
  {
   "metadata": {},
   "cell_type": "code",
   "outputs": [],
   "execution_count": null,
   "source": "",
   "id": "a95f5a2467e68ec3"
  }
 ],
 "metadata": {
  "kernelspec": {
   "display_name": "Python 3",
   "language": "python",
   "name": "python3"
  },
  "language_info": {
   "codemirror_mode": {
    "name": "ipython",
    "version": 2
   },
   "file_extension": ".py",
   "mimetype": "text/x-python",
   "name": "python",
   "nbconvert_exporter": "python",
   "pygments_lexer": "ipython2",
   "version": "2.7.6"
  }
 },
 "nbformat": 4,
 "nbformat_minor": 5
}
